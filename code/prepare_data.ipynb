{
 "cells": [
  {
   "cell_type": "markdown",
   "metadata": {},
   "source": [
    "In this notebook, we are going to prepare the data to be used in future models."
   ]
  },
  {
   "cell_type": "code",
   "execution_count": 1,
   "metadata": {},
   "outputs": [],
   "source": [
    "import numpy as np                       \n",
    "import xarray as xr                      \n",
    "import pandas as pd     \n",
    "import cftime                  \n",
    "from datetime import datetime, timedelta\n",
    "import os"
   ]
  },
  {
   "cell_type": "markdown",
   "metadata": {},
   "source": [
    "# Temperature"
   ]
  },
  {
   "cell_type": "markdown",
   "metadata": {},
   "source": [
    "## Prepare the training data"
   ]
  },
  {
   "cell_type": "code",
   "execution_count": 2,
   "metadata": {},
   "outputs": [],
   "source": [
    "reanalysis_nc = xr.open_dataset('../Archivos_reanalisisERA5_realesINUMET/Reanalisis/Datos_t2m_horario_2000a2010_uy.nc')\n",
    "reanalysis_nc_2 = xr.open_dataset('../Archivos_reanalisisERA5_realesINUMET/Reanalisis/Datos_t2m_horario_2011a2021_uy.nc')\n",
    "\n",
    "def transform_reanalysis(data_nc):\n",
    "    reanalysis = pd.DataFrame()\n",
    "    reanalysis['time'] = pd.to_datetime(data_nc.time)\n",
    "    reanalysis['temp'] = data_nc.t2m.mean(dim=[\"latitude\",\"longitude\"]) \n",
    "    reanalysis = reanalysis.loc[reanalysis[\"time\"] < datetime.fromisoformat('2015-01-01T00:00:00')]\n",
    "    reanalysis['date'] = reanalysis['time'].dt.date\n",
    "    reanalysis['hour'] = reanalysis['time'].dt.hour\n",
    "    reanalysis['day'] = reanalysis['time'].dt.day\n",
    "    reanalysis['month'] = reanalysis['time'].dt.month\n",
    "    reanalysis_by_day = reanalysis[[\"date\", \"temp\"]].groupby('date') \\\n",
    "                                                   .mean() \\\n",
    "                                                   .rename(columns={\"temp\":\"avg_temp\"})\n",
    "    reanalysis = reanalysis.join(reanalysis_by_day, on=\"date\") \\\n",
    "                            .drop('date', axis=1)\n",
    "    reanalysis = reanalysis[['time', 'hour', 'day', 'month', 'avg_temp', 'temp']] #Reorder the columns\n",
    "    return reanalysis\n",
    "\n",
    "reanalysis = pd.concat([transform_reanalysis(reanalysis_nc), transform_reanalysis(reanalysis_nc_2)])\n",
    "reanalysis = reanalysis[((reanalysis['day'] != 29) | (reanalysis['month'] != 2))] #Delete all Feb 29th \n",
    "reanalysis.to_csv('reanalysis_tas_training_data.csv',  index=False)"
   ]
  },
  {
   "cell_type": "markdown",
   "metadata": {},
   "source": [
    "## Prepare the data to be predicted"
   ]
  },
  {
   "cell_type": "code",
   "execution_count": 2,
   "metadata": {},
   "outputs": [],
   "source": [
    "CESM2_WACCM_nc = xr.open_dataset('../data/tas_day_CESM2-WACCM_historical_r1i1p1f1_gn_20000101-20141231_v20190227.nc')\n",
    "CESM2_WACCM = pd.DataFrame()\n",
    "CESM2_WACCM['time'] = CESM2_WACCM_nc.time\n",
    "CESM2_WACCM['CESM2_WACCM'] = CESM2_WACCM_nc.tas.mean(dim=[\"lat\",\"lon\"])\n",
    "CESM2_WACCM['time'] = CESM2_WACCM['time'].apply(lambda x: datetime.fromisoformat(x.isoformat()))\n",
    "\n",
    "CESM2_WACCM_by_hour = []\n",
    "\n",
    "for row in CESM2_WACCM.values:\n",
    "    for h in range(0,24):\n",
    "        new_row = pd.Series({\n",
    "            'time': row[0] + timedelta(hours=h),\n",
    "            'hour': h,\n",
    "            'day': row[0].day,\n",
    "            'month': row[0].month,\n",
    "            'avg_temp': row[1]\n",
    "        })\n",
    "        CESM2_WACCM_by_hour.append(new_row)\n",
    "\n",
    "CESM2_WACCM = pd.DataFrame(CESM2_WACCM_by_hour)\n",
    "CESM2_WACCM.to_csv('cmip6_tas_to_predict_data.csv', index=False)"
   ]
  },
  {
   "cell_type": "markdown",
   "metadata": {},
   "source": [
    "# Wind Speed"
   ]
  },
  {
   "cell_type": "markdown",
   "metadata": {},
   "source": [
    "## Prepare the training data"
   ]
  },
  {
   "cell_type": "markdown",
   "metadata": {},
   "source": [
    "**Note**: I've assumed that sfcwind = sqrt(u^2 + v^2). Corroboration is needed."
   ]
  },
  {
   "cell_type": "code",
   "execution_count": 4,
   "metadata": {},
   "outputs": [],
   "source": [
    "reanalysis_wind_U_nc = xr.open_dataset('../Archivos_reanalisisERA5_realesINUMET/Reanalisis/Datos_U10m_horario_2000a2010_uy.nc')\n",
    "reanalysis_wind_V_nc = xr.open_dataset('../Archivos_reanalisisERA5_realesINUMET/Reanalisis/Datos_V10m_horario_2000a2010_uy.nc')\n",
    "reanalysis_wind_U_2_nc = xr.open_dataset('../Archivos_reanalisisERA5_realesINUMET/Reanalisis/Datos_U10m_horario_2011a2021_uy.nc')\n",
    "reanalysis_wind_V_2_nc = xr.open_dataset('../Archivos_reanalisisERA5_realesINUMET/Reanalisis/Datos_V10m_horario_2011a2021_uy.nc')\n",
    "\n",
    "\n",
    "def transform_reanalysis_wind(U_nc, V_nc):\n",
    "    reanalysis = pd.DataFrame()\n",
    "    reanalysis['time'] = pd.to_datetime(U_nc.time)\n",
    "    reanalysis['U'] = U_nc.u10.mean(dim=[\"latitude\",\"longitude\"]) \n",
    "    reanalysis['V'] = V_nc.v10.mean(dim=[\"latitude\",\"longitude\"])\n",
    "    reanalysis['sfc_wind'] = reanalysis.apply(lambda x: np.sqrt(x.U**2 + x.V**2), axis=1)\n",
    "    reanalysis = reanalysis.loc[reanalysis[\"time\"] < datetime.fromisoformat('2015-01-01T00:00:00')]\n",
    "    reanalysis['date'] = reanalysis['time'].dt.date\n",
    "    reanalysis['hour'] = reanalysis['time'].dt.hour\n",
    "    reanalysis['day'] = reanalysis['time'].dt.day\n",
    "    reanalysis['month'] = reanalysis['time'].dt.month\n",
    "    reanalysis_by_day = reanalysis[[\"date\", \"sfc_wind\"]].groupby('date') \\\n",
    "                                                   .mean() \\\n",
    "                                                   .rename(columns={\"sfc_wind\":\"avg_sfc_wind\"})\n",
    "    reanalysis = reanalysis.join(reanalysis_by_day, on=\"date\") \\\n",
    "                            .drop('date', axis=1)\n",
    "    reanalysis = reanalysis[['time', 'hour', 'day', 'month', 'avg_sfc_wind', 'sfc_wind']] #Reorder the columns\n",
    "    return reanalysis\n",
    "\n",
    "reanalysis_wind = pd.concat([transform_reanalysis_wind(reanalysis_wind_U_nc, reanalysis_wind_V_nc), \n",
    "                             transform_reanalysis_wind(reanalysis_wind_U_2_nc, reanalysis_wind_V_2_nc)])\n",
    "\n",
    "reanalysis_wind = reanalysis_wind[((reanalysis_wind['day'] != 29) | (reanalysis_wind['month'] != 2))] #Delete all Feb 29th \n",
    "reanalysis_wind.to_csv('reanalysis_wind_training_data.csv',  index=False)"
   ]
  },
  {
   "cell_type": "markdown",
   "metadata": {},
   "source": [
    "## Prepare the data to be predicted"
   ]
  },
  {
   "cell_type": "code",
   "execution_count": 5,
   "metadata": {},
   "outputs": [],
   "source": [
    "CESM2_WACCM_wind_nc = xr.open_dataset('../data/sfcWind_day_CESM2-WACCM_historical_r1i1p1f1_gn_20000101-20141231_v20190227.nc')\n",
    "CESM2_WACCM_wind = pd.DataFrame()\n",
    "CESM2_WACCM_wind['time'] = CESM2_WACCM_wind_nc.time\n",
    "CESM2_WACCM_wind['CESM2_WACCM'] = CESM2_WACCM_wind_nc.sfcWind.mean(dim=[\"lat\",\"lon\"])\n",
    "CESM2_WACCM_wind['time'] = CESM2_WACCM_wind['time'].apply(lambda x: datetime.fromisoformat(x.isoformat()))\n",
    "\n",
    "CESM2_WACCM_wind_by_hour = []\n",
    "\n",
    "for row in CESM2_WACCM_wind.values:\n",
    "    for h in range(0,24):\n",
    "        new_row = pd.Series({\n",
    "            'time': row[0] + timedelta(hours=h),\n",
    "            'hour': h,\n",
    "            'day': row[0].day,\n",
    "            'month': row[0].month,\n",
    "            'avg_sfc_wind': row[1]\n",
    "        })\n",
    "        CESM2_WACCM_wind_by_hour.append(new_row)\n",
    "\n",
    "CESM2_WACCM_wind = pd.DataFrame(CESM2_WACCM_wind_by_hour)\n",
    "CESM2_WACCM_wind.to_csv('cmip6_wind_to_predict_data.csv', index=False)\n",
    "#CESM2_WACCM_wind.head()"
   ]
  }
 ],
 "metadata": {
  "kernelspec": {
   "display_name": "base",
   "language": "python",
   "name": "python3"
  },
  "language_info": {
   "codemirror_mode": {
    "name": "ipython",
    "version": 3
   },
   "file_extension": ".py",
   "mimetype": "text/x-python",
   "name": "python",
   "nbconvert_exporter": "python",
   "pygments_lexer": "ipython3",
   "version": "3.11.5"
  }
 },
 "nbformat": 4,
 "nbformat_minor": 2
}
