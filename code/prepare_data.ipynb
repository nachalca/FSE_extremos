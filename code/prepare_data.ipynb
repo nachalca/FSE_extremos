{
 "cells": [
  {
   "cell_type": "markdown",
   "metadata": {},
   "source": [
    "In this notebook, we are going to prepare the data to be used in future models."
   ]
  },
  {
   "cell_type": "code",
   "execution_count": 1,
   "metadata": {},
   "outputs": [],
   "source": [
    "import numpy as np                       \n",
    "import xarray as xr                      \n",
    "import pandas as pd     \n",
    "import cftime           \n",
    "import zipfile       \n",
    "from datetime import datetime, timedelta\n",
    "import os\n",
    "import sys"
   ]
  },
  {
   "cell_type": "markdown",
   "metadata": {},
   "source": [
    "# Temperature"
   ]
  },
  {
   "cell_type": "markdown",
   "metadata": {},
   "source": [
    "## Prepare the training data"
   ]
  },
  {
   "cell_type": "code",
   "execution_count": 3,
   "metadata": {},
   "outputs": [],
   "source": [
    "reanalysis_nc = xr.open_dataset('../Archivos_reanalisisERA5_realesINUMET/Reanalisis/Datos_t2m_horario_2000a2010_uy.nc')\n",
    "reanalysis_nc_2 = xr.open_dataset('../Archivos_reanalisisERA5_realesINUMET/Reanalisis/Datos_t2m_horario_2011a2021_uy.nc')\n",
    "\n",
    "def transform_reanalysis(data_nc):\n",
    "    reanalysis = pd.DataFrame()\n",
    "    reanalysis['time'] = pd.to_datetime(data_nc.time)\n",
    "    reanalysis['tas'] = data_nc.t2m.mean(dim=[\"latitude\",\"longitude\"]) \n",
    "    reanalysis = reanalysis.loc[reanalysis[\"time\"] < datetime.fromisoformat('2015-01-01T00:00:00')]\n",
    "    reanalysis['date'] = reanalysis['time'].dt.date\n",
    "    reanalysis['day'] = reanalysis['time'].dt.day\n",
    "    reanalysis['month'] = reanalysis['time'].dt.month\n",
    "    reanalysis_by_day = reanalysis[[\"date\", \"tas\"]].groupby('date') \\\n",
    "                                                   .mean() \\\n",
    "                                                   .rename(columns={\"tas\":\"tas_daily\"})\n",
    "    reanalysis = reanalysis.join(reanalysis_by_day, on=\"date\") \\\n",
    "                            .drop('date', axis=1)\n",
    "    return reanalysis\n",
    "\n",
    "reanalysis = pd.concat([transform_reanalysis(reanalysis_nc), transform_reanalysis(reanalysis_nc_2)])\n",
    "reanalysis = reanalysis[((reanalysis['day'] != 29) | (reanalysis['month'] != 2))] #Delete all Feb 29th \n",
    "reanalysis = reanalysis[['time', 'tas_daily', 'tas']] #select the variables we want to keep\n",
    "reanalysis.to_csv('reanalysis_tas_training_data.csv',  index=False)"
   ]
  },
  {
   "cell_type": "markdown",
   "metadata": {},
   "source": [
    "## Prepare the data to be downscaled"
   ]
  },
  {
   "cell_type": "code",
   "execution_count": 4,
   "metadata": {},
   "outputs": [],
   "source": [
    "CESM2_WACCM_nc = xr.open_dataset('../data/tas_day_CESM2-WACCM_historical_r1i1p1f1_gn_20000101-20141231_v20190227.nc')\n",
    "CESM2_WACCM = pd.DataFrame()\n",
    "CESM2_WACCM['time'] = CESM2_WACCM_nc.time\n",
    "CESM2_WACCM['CESM2_WACCM'] = CESM2_WACCM_nc.tas.mean(dim=[\"lat\",\"lon\"])\n",
    "CESM2_WACCM['time'] = CESM2_WACCM['time'].apply(lambda x: datetime.fromisoformat(x.isoformat()))\n",
    "\n",
    "CESM2_WACCM_by_hour = []\n",
    "\n",
    "for row in CESM2_WACCM.values:\n",
    "    for h in range(0,24):\n",
    "        new_row = pd.Series({\n",
    "            'time': row[0] + timedelta(hours=h),\n",
    "            'tas': 0,\n",
    "            'tas_daily': row[1]\n",
    "        })\n",
    "        CESM2_WACCM_by_hour.append(new_row)\n",
    "\n",
    "CESM2_WACCM = pd.DataFrame(CESM2_WACCM_by_hour)\n",
    "CESM2_WACCM.to_csv('cmip6_tas_to_downscale_data.csv', index=False)"
   ]
  },
  {
   "cell_type": "markdown",
   "metadata": {},
   "source": [
    "# Wind Speed"
   ]
  },
  {
   "cell_type": "markdown",
   "metadata": {},
   "source": [
    "## Prepare the training data"
   ]
  },
  {
   "cell_type": "markdown",
   "metadata": {},
   "source": [
    "**Note**: I've assumed that sfcwind = sqrt(u^2 + v^2). Corroboration is needed."
   ]
  },
  {
   "cell_type": "code",
   "execution_count": 12,
   "metadata": {},
   "outputs": [],
   "source": [
    "reanalysis_wind_U_nc = xr.open_dataset('../Archivos_reanalisisERA5_realesINUMET/Reanalisis/Datos_U10m_horario_2000a2010_uy.nc')\n",
    "reanalysis_wind_V_nc = xr.open_dataset('../Archivos_reanalisisERA5_realesINUMET/Reanalisis/Datos_V10m_horario_2000a2010_uy.nc')\n",
    "reanalysis_wind_U_2_nc = xr.open_dataset('../Archivos_reanalisisERA5_realesINUMET/Reanalisis/Datos_U10m_horario_2011a2021_uy.nc')\n",
    "reanalysis_wind_V_2_nc = xr.open_dataset('../Archivos_reanalisisERA5_realesINUMET/Reanalisis/Datos_V10m_horario_2011a2021_uy.nc')\n",
    "\n",
    "\n",
    "def transform_reanalysis_wind(U_nc, V_nc):\n",
    "    reanalysis = pd.DataFrame()\n",
    "    reanalysis['time'] = pd.to_datetime(U_nc.time)\n",
    "    reanalysis['sfcWind'] = np.sqrt(np.square(U_nc.u10) + np.square(V_nc.v10)) \\\n",
    "                               .mean(dim=[\"latitude\",\"longitude\"]) \n",
    "    reanalysis = reanalysis.loc[reanalysis[\"time\"] < datetime.fromisoformat('2015-01-01T00:00:00')]\n",
    "    reanalysis['date'] = reanalysis['time'].dt.date\n",
    "    reanalysis['day'] = reanalysis['time'].dt.day\n",
    "    reanalysis['month'] = reanalysis['time'].dt.month\n",
    "    reanalysis_by_day = reanalysis[[\"date\", \"sfcWind\"]].groupby('date') \\\n",
    "                                                   .mean() \\\n",
    "                                                   .rename(columns={\"sfcWind\":\"sfcWind_daily\"})\n",
    "    reanalysis = reanalysis.join(reanalysis_by_day, on=\"date\") \\\n",
    "                            .drop('date', axis=1)\n",
    "    return reanalysis\n",
    "\n",
    "reanalysis_wind = pd.concat([transform_reanalysis_wind(reanalysis_wind_U_nc, reanalysis_wind_V_nc), \n",
    "                             transform_reanalysis_wind(reanalysis_wind_U_2_nc, reanalysis_wind_V_2_nc)])\n",
    "\n",
    "reanalysis_wind = reanalysis_wind[((reanalysis_wind['day'] != 29) | (reanalysis_wind['month'] != 2))] #Delete all Feb 29th \n",
    "reanalysis_wind = reanalysis_wind[['time', 'sfcWind_daily', 'sfcWind']] #select the variables we want to keep\n",
    "reanalysis_wind.to_csv('reanalysis_sfcWind_training_data.csv',  index=False)"
   ]
  },
  {
   "cell_type": "markdown",
   "metadata": {},
   "source": [
    "## Prepare the data to be downscaled"
   ]
  },
  {
   "cell_type": "code",
   "execution_count": null,
   "metadata": {},
   "outputs": [],
   "source": [
    "CESM2_WACCM_wind_nc = xr.open_dataset('../data/sfcWind_day_CESM2-WACCM_historical_r1i1p1f1_gn_20000101-20141231_v20190227.nc')\n",
    "CESM2_WACCM_wind = pd.DataFrame()\n",
    "CESM2_WACCM_wind['time'] = CESM2_WACCM_wind_nc.time\n",
    "CESM2_WACCM_wind['CESM2_WACCM'] = CESM2_WACCM_wind_nc.sfcWind.mean(dim=[\"lat\",\"lon\"])\n",
    "CESM2_WACCM_wind['time'] = CESM2_WACCM_wind['time'].apply(lambda x: datetime.fromisoformat(x.isoformat()))\n",
    "\n",
    "CESM2_WACCM_wind_by_hour = []\n",
    "\n",
    "for row in CESM2_WACCM_wind.values:\n",
    "    for h in range(0,24):\n",
    "        new_row = pd.Series({\n",
    "            'time': row[0] + timedelta(hours=h),\n",
    "            'sfcWind': 0,\n",
    "            'sfcWind_daily': row[1]\n",
    "        })\n",
    "        CESM2_WACCM_wind_by_hour.append(new_row)\n",
    "\n",
    "CESM2_WACCM_wind = pd.DataFrame(CESM2_WACCM_wind_by_hour)\n",
    "CESM2_WACCM_wind.to_csv('cmip6_sfcWind_to_downscale_data.csv', index=False)\n",
    "#CESM2_WACCM_wind.head()"
   ]
  },
  {
   "cell_type": "markdown",
   "metadata": {},
   "source": [
    "# Precipitation"
   ]
  },
  {
   "cell_type": "code",
   "execution_count": 25,
   "metadata": {},
   "outputs": [],
   "source": [
    "PRECIPTITATION_FOLDER = \"../Archivos_reanalisisERA5_realesINUMET/Reanalisis-precipitation/\"\n",
    "\n",
    "def transform_reanalysis(data_nc):\n",
    "    reanalysis = pd.DataFrame()\n",
    "    reanalysis['time'] = pd.to_datetime(data_nc.time)\n",
    "    reanalysis['pr'] = data_nc.tp.sum(dim=[\"latitude\",\"longitude\"])\n",
    " #   reanalysis = reanalysis.loc[reanalysis[\"time\"] < datetime.fromisoformat('2015-01-01T00:00:00')]\n",
    "    reanalysis['date'] = reanalysis['time'].dt.date\n",
    "    reanalysis['day'] = reanalysis['time'].dt.day\n",
    "    reanalysis['month'] = reanalysis['time'].dt.month\n",
    "    reanalysis_by_day = reanalysis[[\"date\", \"pr\"]].groupby('date') \\\n",
    "                                                   .sum() \\\n",
    "                                                   .rename(columns={\"pr\":\"pr_daily\"})\n",
    "    reanalysis = reanalysis.join(reanalysis_by_day, on=\"date\") \\\n",
    "                            .drop('date', axis=1)\n",
    "    return reanalysis\n",
    "\n",
    "reanalysis = pd.DataFrame()\n",
    "\n",
    "for file in os.listdir(PRECIPTITATION_FOLDER):\n",
    "\n",
    "    with zipfile.ZipFile(PRECIPTITATION_FOLDER + file,\"r\") as zip_ref:\n",
    "        zip_ref.extractall(PRECIPTITATION_FOLDER + \"data\")\n",
    "    \n",
    "    precipitation_nc = xr.open_dataset(PRECIPTITATION_FOLDER + \"data/data.nc\")\n",
    "    reanalysis = pd.concat([reanalysis,transform_reanalysis(precipitation_nc)])\n",
    "    os.remove(PRECIPTITATION_FOLDER + \"data/data.nc\")\n",
    "    os.removedirs(PRECIPTITATION_FOLDER + \"data\")\n",
    "\n",
    "reanalysis.sort_values(by='time', inplace=True)\n",
    "reanalysis.reset_index(drop=True, inplace=True)\n",
    "\n",
    "reanalysis_temp = reanalysis[['time', 'pr_daily', 'pr']]\n",
    "reanalysis_temp.to_csv('reanalysis_precipitation.csv',  index=False)\n",
    "\n",
    "reanalysis = reanalysis[((reanalysis['day'] != 29) | (reanalysis['month'] != 2))] #Delete all Feb 29th \n",
    "reanalysis = reanalysis[['time', 'pr_daily', 'pr']] #select the variables we want to keep\n",
    "reanalysis = reanalysis.loc[reanalysis[\"time\"] < datetime.fromisoformat('2015-01-01T00:00:00')]\n",
    "reanalysis.to_csv('reanalysis_precipitation_training_data.csv',  index=False)"
   ]
  },
  {
   "cell_type": "markdown",
   "metadata": {},
   "source": [
    "## Prepare the data to be downscaled"
   ]
  },
  {
   "cell_type": "code",
   "execution_count": 27,
   "metadata": {},
   "outputs": [],
   "source": [
    "CESM2_WACCM_precipitation_nc = xr.open_dataset('../data/pr_day_CESM2-WACCM_historical_r1i1p1f1_gn_20000101-20141231_v20190415.nc')\n",
    "CESM2_WACCM_precipitation = pd.DataFrame()\n",
    "CESM2_WACCM_precipitation['time'] = CESM2_WACCM_precipitation_nc.time\n",
    "CESM2_WACCM_precipitation['CESM2_WACCM'] = CESM2_WACCM_precipitation_nc.pr.sum(dim=[\"lat\",\"lon\"])*3600*24\n",
    "CESM2_WACCM_precipitation['time'] = CESM2_WACCM_precipitation['time'].apply(lambda x: datetime.fromisoformat(x.isoformat()))\n",
    "\n",
    "CESM2_WACCM_precipitation_by_hour = []\n",
    "\n",
    "for row in CESM2_WACCM_precipitation.values:\n",
    "    for h in range(0,24):\n",
    "        new_row = pd.Series({\n",
    "            'time': row[0] + timedelta(hours=h),\n",
    "            'pr': 0,\n",
    "            'pr_daily': row[1]\n",
    "        })\n",
    "        CESM2_WACCM_precipitation_by_hour.append(new_row)\n",
    "\n",
    "CESM2_WACCM_precipitation = pd.DataFrame(CESM2_WACCM_precipitation_by_hour)\n",
    "CESM2_WACCM_precipitation.to_csv('cmip6_precipitation_to_downscale_data.csv', index=False)\n",
    "#CESM2_WACCM_wind.head()"
   ]
  },
  {
   "cell_type": "code",
   "execution_count": 33,
   "metadata": {},
   "outputs": [
    {
     "data": {
      "image/png": "[encoded data removed]",
      "text/plain": [
       "<Figure size 640x480 with 1 Axes>"
      ]
     },
     "metadata": {},
     "output_type": "display_data"
    }
   ],
   "source": [
    "#plot an histogram of the pr column of the cesm2_waccm_precipitation dataframe and one of the reanalysis dataframe\n",
    "import matplotlib.pyplot as plt\n",
    "plt.hist(CESM2_WACCM_precipitation['pr_daily'], bins=100, alpha=0.5, label='CESM2_WACCM')\n",
    "plt.hist(reanalysis['pr_daily'], bins=100, alpha=0.5, label='Reanalysis')\n",
    "plt.legend(loc='upper right')\n",
    "plt.show()\n"
   ]
  }
 ],
 "metadata": {
  "kernelspec": {
   "display_name": "base",
   "language": "python",
   "name": "python3"
  },
  "language_info": {
   "codemirror_mode": {
    "name": "ipython",
    "version": 3
   },
   "file_extension": ".py",
   "mimetype": "text/x-python",
   "name": "python",
   "nbconvert_exporter": "python",
   "pygments_lexer": "ipython3",
   "version": "3.11.5"
  }
 },
 "nbformat": 4,
 "nbformat_minor": 2
}
