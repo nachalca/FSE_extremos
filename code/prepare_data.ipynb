{
 "cells": [
  {
   "cell_type": "markdown",
   "metadata": {},
   "source": [
    "In this notebook, we are going to prepare the data to be used in future models."
   ]
  },
  {
   "cell_type": "code",
   "execution_count": 2,
   "metadata": {},
   "outputs": [],
   "source": [
    "import numpy as np                       \n",
    "import xarray as xr                      \n",
    "import pandas as pd     \n",
    "import cftime                  \n",
    "from datetime import datetime, timedelta\n",
    "import os"
   ]
  },
  {
   "cell_type": "markdown",
   "metadata": {},
   "source": [
    "# Temperature"
   ]
  },
  {
   "cell_type": "markdown",
   "metadata": {},
   "source": [
    "## Prepare the training data"
   ]
  },
  {
   "cell_type": "code",
   "execution_count": 2,
   "metadata": {},
   "outputs": [],
   "source": [
    "reanalysis_nc = xr.open_dataset('../Archivos_reanalisisERA5_realesINUMET/Reanalisis/Datos_t2m_horario_2000a2010_uy.nc')\n",
    "reanalysis_nc_2 = xr.open_dataset('../Archivos_reanalisisERA5_realesINUMET/Reanalisis/Datos_t2m_horario_2011a2021_uy.nc')\n",
    "\n",
    "def transform_reanalysis(data_nc):\n",
    "    reanalysis = pd.DataFrame()\n",
    "    reanalysis['time'] = pd.to_datetime(data_nc.time)\n",
    "    reanalysis['temp'] = data_nc.t2m.mean(dim=[\"latitude\",\"longitude\"]) \n",
    "    reanalysis = reanalysis.loc[reanalysis[\"time\"] < datetime.fromisoformat('2015-01-01T00:00:00')]\n",
    "    reanalysis['date'] = reanalysis['time'].dt.date\n",
    "    reanalysis['hour'] = reanalysis['time'].dt.hour\n",
    "    reanalysis['day'] = reanalysis['time'].dt.day\n",
    "    reanalysis['month'] = reanalysis['time'].dt.month\n",
    "    reanalysis_by_day = reanalysis[[\"date\", \"temp\"]].groupby('date') \\\n",
    "                                                   .mean() \\\n",
    "                                                   .rename(columns={\"temp\":\"avg_temp\"})\n",
    "    reanalysis = reanalysis.join(reanalysis_by_day, on=\"date\") \\\n",
    "                            .drop('date', axis=1)\n",
    "    reanalysis = reanalysis[['time', 'hour', 'day', 'month', 'avg_temp', 'temp']] #Reorder the columns\n",
    "    return reanalysis\n",
    "\n",
    "reanalysis = pd.concat([transform_reanalysis(reanalysis_nc), transform_reanalysis(reanalysis_nc_2)])\n",
    "reanalysis = reanalysis[((reanalysis['day'] != 29) | (reanalysis['month'] != 2))] #Delete all Feb 29th \n",
    "reanalysis.to_csv('reanalysis_tas_training_data.csv',  index=False)"
   ]
  },
  {
   "cell_type": "markdown",
   "metadata": {},
   "source": [
    "## Prepare the data to be predicted"
   ]
  },
  {
   "cell_type": "code",
   "execution_count": 3,
   "metadata": {},
   "outputs": [],
   "source": [
    "CESM2_WACCM_nc = xr.open_dataset('../data/tas_day_CESM2-WACCM_historical_r1i1p1f1_gn_20000101-20141231_v20190227.nc')\n",
    "CESM2_WACCM = pd.DataFrame()\n",
    "CESM2_WACCM['time'] = CESM2_WACCM_nc.time\n",
    "CESM2_WACCM['CESM2_WACCM'] = CESM2_WACCM_nc.tas.mean(dim=[\"lat\",\"lon\"])\n",
    "CESM2_WACCM['time'] = CESM2_WACCM['time'].apply(lambda x: datetime.fromisoformat(x.isoformat()))\n",
    "\n",
    "CESM2_WACCM_by_hour = []\n",
    "\n",
    "for row in CESM2_WACCM.values:\n",
    "    for h in range(0,24):\n",
    "        new_row = pd.Series({\n",
    "            'time': row[0] + timedelta(hours=h),\n",
    "            'hour': h,\n",
    "            'day': row[0].day,\n",
    "            'month': row[0].month,\n",
    "            'avg_temp': row[1]\n",
    "        })\n",
    "        CESM2_WACCM_by_hour.append(new_row)\n",
    "\n",
    "CESM2_WACCM = pd.DataFrame(CESM2_WACCM_by_hour)\n",
    "CESM2_WACCM.to_csv('cmip6_tas_to_predict_data.csv', index=False)"
   ]
  },
  {
   "cell_type": "markdown",
   "metadata": {},
   "source": [
    "# Wind Speed"
   ]
  },
  {
   "cell_type": "markdown",
   "metadata": {},
   "source": [
    "## Prepare the training data"
   ]
  },
  {
   "cell_type": "markdown",
   "metadata": {},
   "source": [
    "**Note**: I've assumed that sfcwind = sqrt(u^2 + v^2). Corroboration is needed."
   ]
  },
  {
   "cell_type": "code",
   "execution_count": 4,
   "metadata": {},
   "outputs": [],
   "source": [
    "reanalysis_wind_U_nc = xr.open_dataset('../Archivos_reanalisisERA5_realesINUMET/Reanalisis/Datos_U10m_horario_2000a2010_uy.nc')\n",
    "reanalysis_wind_V_nc = xr.open_dataset('../Archivos_reanalisisERA5_realesINUMET/Reanalisis/Datos_V10m_horario_2000a2010_uy.nc')\n",
    "reanalysis_wind_U_2_nc = xr.open_dataset('../Archivos_reanalisisERA5_realesINUMET/Reanalisis/Datos_U10m_horario_2011a2021_uy.nc')\n",
    "reanalysis_wind_V_2_nc = xr.open_dataset('../Archivos_reanalisisERA5_realesINUMET/Reanalisis/Datos_V10m_horario_2011a2021_uy.nc')\n",
    "\n",
    "\n",
    "def transform_reanalysis_wind(U_nc, V_nc):\n",
    "    reanalysis = pd.DataFrame()\n",
    "    reanalysis['time'] = pd.to_datetime(U_nc.time)\n",
    "    reanalysis['sfc_wind'] = np.sqrt(np.square(U_nc.u10) + np.square(V_nc.v10)) \\\n",
    "                               .mean(dim=[\"latitude\",\"longitude\"]) \n",
    "    reanalysis = reanalysis.loc[reanalysis[\"time\"] < datetime.fromisoformat('2015-01-01T00:00:00')]\n",
    "    reanalysis['date'] = reanalysis['time'].dt.date\n",
    "    reanalysis['hour'] = reanalysis['time'].dt.hour\n",
    "    reanalysis['day'] = reanalysis['time'].dt.day\n",
    "    reanalysis['month'] = reanalysis['time'].dt.month\n",
    "    reanalysis_by_day = reanalysis[[\"date\", \"sfc_wind\"]].groupby('date') \\\n",
    "                                                   .mean() \\\n",
    "                                                   .rename(columns={\"sfc_wind\":\"avg_sfc_wind\"})\n",
    "    reanalysis = reanalysis.join(reanalysis_by_day, on=\"date\") \\\n",
    "                            .drop('date', axis=1)\n",
    "    reanalysis = reanalysis[['time', 'hour', 'day', 'month', 'avg_sfc_wind', 'sfc_wind']] #Reorder the columns\n",
    "    return reanalysis\n",
    "\n",
    "reanalysis_wind = pd.concat([transform_reanalysis_wind(reanalysis_wind_U_nc, reanalysis_wind_V_nc), \n",
    "                             transform_reanalysis_wind(reanalysis_wind_U_2_nc, reanalysis_wind_V_2_nc)])\n",
    "\n",
    "reanalysis_wind = reanalysis_wind[((reanalysis_wind['day'] != 29) | (reanalysis_wind['month'] != 2))] #Delete all Feb 29th \n",
    "reanalysis_wind.to_csv('reanalysis_wind_training_data.csv',  index=False)"
   ]
  },
  {
   "cell_type": "markdown",
   "metadata": {},
   "source": [
    "## Prepare the data to be predicted"
   ]
  },
  {
   "cell_type": "code",
   "execution_count": 3,
   "metadata": {},
   "outputs": [
    {
     "ename": "KeyboardInterrupt",
     "evalue": "",
     "output_type": "error",
     "traceback": [
      "\u001b[0;31m---------------------------------------------------------------------------\u001b[0m",
      "\u001b[0;31mKeyboardInterrupt\u001b[0m                         Traceback (most recent call last)",
      "\u001b[1;32m/home/tancre/dev/UTE/FSE_extremos/code/prepare_data.ipynb Cell 13\u001b[0m line \u001b[0;36m7\n\u001b[1;32m      <a href='vscode-notebook-cell:/home/tancre/dev/UTE/FSE_extremos/code/prepare_data.ipynb#X15sZmlsZQ%3D%3D?line=3'>4</a>\u001b[0m CESM2_WACCM_wind[\u001b[39m'\u001b[39m\u001b[39mCESM2_WACCM\u001b[39m\u001b[39m'\u001b[39m] \u001b[39m=\u001b[39m CESM2_WACCM_wind_nc\u001b[39m.\u001b[39msfcWind\u001b[39m.\u001b[39mmean(dim\u001b[39m=\u001b[39m[\u001b[39m\"\u001b[39m\u001b[39mlat\u001b[39m\u001b[39m\"\u001b[39m,\u001b[39m\"\u001b[39m\u001b[39mlon\u001b[39m\u001b[39m\"\u001b[39m])\n\u001b[1;32m      <a href='vscode-notebook-cell:/home/tancre/dev/UTE/FSE_extremos/code/prepare_data.ipynb#X15sZmlsZQ%3D%3D?line=4'>5</a>\u001b[0m CESM2_WACCM_wind[\u001b[39m'\u001b[39m\u001b[39mtime\u001b[39m\u001b[39m'\u001b[39m] \u001b[39m=\u001b[39m CESM2_WACCM_wind[\u001b[39m'\u001b[39m\u001b[39mtime\u001b[39m\u001b[39m'\u001b[39m]\u001b[39m.\u001b[39mapply(\u001b[39mlambda\u001b[39;00m x: datetime\u001b[39m.\u001b[39mfromisoformat(x\u001b[39m.\u001b[39misoformat()))\n\u001b[0;32m----> <a href='vscode-notebook-cell:/home/tancre/dev/UTE/FSE_extremos/code/prepare_data.ipynb#X15sZmlsZQ%3D%3D?line=6'>7</a>\u001b[0m CESM2_WACCM_wind_by_hour \u001b[39m=\u001b[39m []\n\u001b[1;32m      <a href='vscode-notebook-cell:/home/tancre/dev/UTE/FSE_extremos/code/prepare_data.ipynb#X15sZmlsZQ%3D%3D?line=8'>9</a>\u001b[0m \u001b[39mfor\u001b[39;00m row \u001b[39min\u001b[39;00m CESM2_WACCM_wind\u001b[39m.\u001b[39mvalues:\n\u001b[1;32m     <a href='vscode-notebook-cell:/home/tancre/dev/UTE/FSE_extremos/code/prepare_data.ipynb#X15sZmlsZQ%3D%3D?line=9'>10</a>\u001b[0m     \u001b[39mfor\u001b[39;00m h \u001b[39min\u001b[39;00m \u001b[39mrange\u001b[39m(\u001b[39m0\u001b[39m,\u001b[39m24\u001b[39m):\n",
      "\u001b[1;32m/home/tancre/dev/UTE/FSE_extremos/code/prepare_data.ipynb Cell 13\u001b[0m line \u001b[0;36m7\n\u001b[1;32m      <a href='vscode-notebook-cell:/home/tancre/dev/UTE/FSE_extremos/code/prepare_data.ipynb#X15sZmlsZQ%3D%3D?line=3'>4</a>\u001b[0m CESM2_WACCM_wind[\u001b[39m'\u001b[39m\u001b[39mCESM2_WACCM\u001b[39m\u001b[39m'\u001b[39m] \u001b[39m=\u001b[39m CESM2_WACCM_wind_nc\u001b[39m.\u001b[39msfcWind\u001b[39m.\u001b[39mmean(dim\u001b[39m=\u001b[39m[\u001b[39m\"\u001b[39m\u001b[39mlat\u001b[39m\u001b[39m\"\u001b[39m,\u001b[39m\"\u001b[39m\u001b[39mlon\u001b[39m\u001b[39m\"\u001b[39m])\n\u001b[1;32m      <a href='vscode-notebook-cell:/home/tancre/dev/UTE/FSE_extremos/code/prepare_data.ipynb#X15sZmlsZQ%3D%3D?line=4'>5</a>\u001b[0m CESM2_WACCM_wind[\u001b[39m'\u001b[39m\u001b[39mtime\u001b[39m\u001b[39m'\u001b[39m] \u001b[39m=\u001b[39m CESM2_WACCM_wind[\u001b[39m'\u001b[39m\u001b[39mtime\u001b[39m\u001b[39m'\u001b[39m]\u001b[39m.\u001b[39mapply(\u001b[39mlambda\u001b[39;00m x: datetime\u001b[39m.\u001b[39mfromisoformat(x\u001b[39m.\u001b[39misoformat()))\n\u001b[0;32m----> <a href='vscode-notebook-cell:/home/tancre/dev/UTE/FSE_extremos/code/prepare_data.ipynb#X15sZmlsZQ%3D%3D?line=6'>7</a>\u001b[0m CESM2_WACCM_wind_by_hour \u001b[39m=\u001b[39m []\n\u001b[1;32m      <a href='vscode-notebook-cell:/home/tancre/dev/UTE/FSE_extremos/code/prepare_data.ipynb#X15sZmlsZQ%3D%3D?line=8'>9</a>\u001b[0m \u001b[39mfor\u001b[39;00m row \u001b[39min\u001b[39;00m CESM2_WACCM_wind\u001b[39m.\u001b[39mvalues:\n\u001b[1;32m     <a href='vscode-notebook-cell:/home/tancre/dev/UTE/FSE_extremos/code/prepare_data.ipynb#X15sZmlsZQ%3D%3D?line=9'>10</a>\u001b[0m     \u001b[39mfor\u001b[39;00m h \u001b[39min\u001b[39;00m \u001b[39mrange\u001b[39m(\u001b[39m0\u001b[39m,\u001b[39m24\u001b[39m):\n",
      "File \u001b[0;32m_pydevd_bundle/pydevd_cython.pyx:1457\u001b[0m, in \u001b[0;36m_pydevd_bundle.pydevd_cython.SafeCallWrapper.__call__\u001b[0;34m()\u001b[0m\n",
      "File \u001b[0;32m_pydevd_bundle/pydevd_cython.pyx:701\u001b[0m, in \u001b[0;36m_pydevd_bundle.pydevd_cython.PyDBFrame.trace_dispatch\u001b[0;34m()\u001b[0m\n",
      "File \u001b[0;32m_pydevd_bundle/pydevd_cython.pyx:1152\u001b[0m, in \u001b[0;36m_pydevd_bundle.pydevd_cython.PyDBFrame.trace_dispatch\u001b[0;34m()\u001b[0m\n",
      "File \u001b[0;32m_pydevd_bundle/pydevd_cython.pyx:1135\u001b[0m, in \u001b[0;36m_pydevd_bundle.pydevd_cython.PyDBFrame.trace_dispatch\u001b[0;34m()\u001b[0m\n",
      "File \u001b[0;32m_pydevd_bundle/pydevd_cython.pyx:312\u001b[0m, in \u001b[0;36m_pydevd_bundle.pydevd_cython.PyDBFrame.do_wait_suspend\u001b[0;34m()\u001b[0m\n",
      "File \u001b[0;32m~/bin/miniconda3/lib/python3.11/site-packages/debugpy/_vendored/pydevd/pydevd.py:2070\u001b[0m, in \u001b[0;36mPyDB.do_wait_suspend\u001b[0;34m(self, thread, frame, event, arg, exception_type)\u001b[0m\n\u001b[1;32m   2067\u001b[0m             from_this_thread\u001b[39m.\u001b[39mappend(frame_custom_thread_id)\n\u001b[1;32m   2069\u001b[0m     \u001b[39mwith\u001b[39;00m \u001b[39mself\u001b[39m\u001b[39m.\u001b[39m_threads_suspended_single_notification\u001b[39m.\u001b[39mnotify_thread_suspended(thread_id, thread, stop_reason):\n\u001b[0;32m-> 2070\u001b[0m         keep_suspended \u001b[39m=\u001b[39m \u001b[39mself\u001b[39;49m\u001b[39m.\u001b[39;49m_do_wait_suspend(thread, frame, event, arg, suspend_type, from_this_thread, frames_tracker)\n\u001b[1;32m   2072\u001b[0m frames_list \u001b[39m=\u001b[39m \u001b[39mNone\u001b[39;00m\n\u001b[1;32m   2074\u001b[0m \u001b[39mif\u001b[39;00m keep_suspended:\n\u001b[1;32m   2075\u001b[0m     \u001b[39m# This means that we should pause again after a set next statement.\u001b[39;00m\n",
      "File \u001b[0;32m~/bin/miniconda3/lib/python3.11/site-packages/debugpy/_vendored/pydevd/pydevd.py:2106\u001b[0m, in \u001b[0;36mPyDB._do_wait_suspend\u001b[0;34m(self, thread, frame, event, arg, suspend_type, from_this_thread, frames_tracker)\u001b[0m\n\u001b[1;32m   2103\u001b[0m         \u001b[39mself\u001b[39m\u001b[39m.\u001b[39m_call_input_hook()\n\u001b[1;32m   2105\u001b[0m     \u001b[39mself\u001b[39m\u001b[39m.\u001b[39mprocess_internal_commands()\n\u001b[0;32m-> 2106\u001b[0m     time\u001b[39m.\u001b[39msleep(\u001b[39m0.01\u001b[39m)\n\u001b[1;32m   2108\u001b[0m \u001b[39mself\u001b[39m\u001b[39m.\u001b[39mcancel_async_evaluation(get_current_thread_id(thread), \u001b[39mstr\u001b[39m(\u001b[39mid\u001b[39m(frame)))\n\u001b[1;32m   2110\u001b[0m \u001b[39m# process any stepping instructions\u001b[39;00m\n",
      "\u001b[0;31mKeyboardInterrupt\u001b[0m: "
     ]
    }
   ],
   "source": [
    "CESM2_WACCM_wind_nc = xr.open_dataset('../data/sfcWind_day_CESM2-WACCM_historical_r1i1p1f1_gn_20000101-20141231_v20190227.nc')\n",
    "CESM2_WACCM_wind = pd.DataFrame()\n",
    "CESM2_WACCM_wind['time'] = CESM2_WACCM_wind_nc.time\n",
    "CESM2_WACCM_wind['CESM2_WACCM'] = CESM2_WACCM_wind_nc.sfcWind.mean(dim=[\"lat\",\"lon\"])\n",
    "CESM2_WACCM_wind['time'] = CESM2_WACCM_wind['time'].apply(lambda x: datetime.fromisoformat(x.isoformat()))\n",
    "\n",
    "CESM2_WACCM_wind_by_hour = []\n",
    "\n",
    "for row in CESM2_WACCM_wind.values:\n",
    "    for h in range(0,24):\n",
    "        new_row = pd.Series({\n",
    "            'time': row[0] + timedelta(hours=h),\n",
    "            'hour': h,\n",
    "            'day': row[0].day,\n",
    "            'month': row[0].month,\n",
    "            'avg_sfc_wind': row[1]\n",
    "        })\n",
    "        CESM2_WACCM_wind_by_hour.append(new_row)\n",
    "\n",
    "CESM2_WACCM_wind = pd.DataFrame(CESM2_WACCM_wind_by_hour)\n",
    "CESM2_WACCM_wind.to_csv('cmip6_wind_to_predict_data.csv', index=False)\n",
    "#CESM2_WACCM_wind.head()"
   ]
  }
 ],
 "metadata": {
  "kernelspec": {
   "display_name": "base",
   "language": "python",
   "name": "python3"
  },
  "language_info": {
   "codemirror_mode": {
    "name": "ipython",
    "version": 3
   },
   "file_extension": ".py",
   "mimetype": "text/x-python",
   "name": "python",
   "nbconvert_exporter": "python",
   "pygments_lexer": "ipython3",
   "version": "3.11.5"
  }
 },
 "nbformat": 4,
 "nbformat_minor": 2
}
