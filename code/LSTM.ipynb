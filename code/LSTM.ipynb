{
 "cells": [
  {
   "cell_type": "code",
   "execution_count": 1,
   "metadata": {},
   "outputs": [
    {
     "name": "stderr",
     "output_type": "stream",
     "text": [
      "2024-05-14 17:15:22.098018: I external/local_tsl/tsl/cuda/cudart_stub.cc:32] Could not find cuda drivers on your machine, GPU will not be used.\n",
      "2024-05-14 17:15:22.102452: I external/local_tsl/tsl/cuda/cudart_stub.cc:32] Could not find cuda drivers on your machine, GPU will not be used.\n",
      "2024-05-14 17:15:22.174014: I tensorflow/core/platform/cpu_feature_guard.cc:210] This TensorFlow binary is optimized to use available CPU instructions in performance-critical operations.\n",
      "To enable the following instructions: AVX2 FMA, in other operations, rebuild TensorFlow with the appropriate compiler flags.\n",
      "2024-05-14 17:15:23.394730: W tensorflow/compiler/tf2tensorrt/utils/py_utils.cc:38] TF-TRT Warning: Could not find TensorRT\n"
     ]
    }
   ],
   "source": [
    "import tensorflow as tf\n",
    "\n",
    "import pandas as pd\n",
    "import numpy as np\n",
    "\n",
    "import tensorflow as tf\n",
    "from tensorflow.keras import optimizers\n",
    "from tensorflow.keras.models import Model\n",
    "from tensorflow.keras.models import Sequential\n",
    "from tensorflow.keras.layers import Input\n",
    "from tensorflow.keras.layers import Dense\n",
    "from tensorflow.keras.layers import Dropout\n",
    "from tensorflow.keras.layers import LSTM\n",
    "from tensorflow.keras.layers import RepeatVector\n",
    "from tensorflow.keras.layers import TimeDistributed\n",
    "from tensorflow.keras.layers import Flatten\n",
    "from tensorflow.keras.layers import Bidirectional\n",
    "\n",
    "from tensorflow.python.keras import backend as K\n",
    "\n",
    "from sklearn.preprocessing import StandardScaler\n",
    "from sklearn.model_selection import train_test_split\n",
    "\n",
    "import matplotlib.pyplot as plt\n",
    "import seaborn as sns\n",
    "\n",
    "from numpy.random import seed\n",
    "\n",
    "\n",
    "SEED = 123  # used to help randomly select the data points\n",
    "DATA_SPLIT_PCT = 0.2\n",
    "\n",
    "df = pd.read_csv(\"reanalysis.csv\")"
   ]
  },
  {
   "cell_type": "code",
   "execution_count": 2,
   "metadata": {},
   "outputs": [],
   "source": [
    "# Convert Categorical column to hot dummy columns\n",
    "hotencoding1 = pd.get_dummies(df['month'])\n",
    "hotencoding1 = hotencoding1.add_prefix('month')\n",
    "hotencoding2 = pd.get_dummies(df['hour'])\n",
    "hotencoding2 = hotencoding2.add_prefix('hour')\n",
    "\n",
    "df=df.drop(['month', 'hour'], axis=1)\n",
    "\n",
    "df=pd.concat([df, hotencoding1, hotencoding2], axis=1)\n",
    "\n",
    "# Rename response column name for ease of understanding\n",
    "df=df.rename(columns={'sfcWind':'y'})\n",
    "\n",
    "#Filter the rows with time less than 2015-01-01\n",
    "df_train = df[df['time'] < '2014-01-01 00:00:00']\n",
    "df_test = df[df['time'] >= '2014-01-01 00:00:00']\n",
    "\n",
    "df_train = df_train.drop(['time'], axis=1)\n",
    "df_test = df_test.drop(['time'], axis=1)"
   ]
  },
  {
   "cell_type": "code",
   "execution_count": 4,
   "metadata": {},
   "outputs": [],
   "source": [
    "input_X_train = df_train.loc[:, df_train.columns != 'y'].values  # converts df to numpy array\n",
    "input_X_test = df_test.loc[:, df_test.columns != 'y'].values  \n",
    "input_y_train = df_train['y'].values\n",
    "input_y_test = df_test['y'].values\n",
    "\n",
    "n_features = input_X_train.shape[1]  # number of features"
   ]
  },
  {
   "cell_type": "code",
   "execution_count": 5,
   "metadata": {},
   "outputs": [],
   "source": [
    "def temporalize(X, y, lookback):\n",
    "    '''\n",
    "    Inputs\n",
    "    X         A 2D numpy array ordered by time of shape: (n_observations x n_features)\n",
    "    y         A 1D numpy array with indexes aligned with X, i.e. y[i] should correspond to X[i]. Shape: n_observations.\n",
    "    lookback  The window size to look back in the past records. Shape: a scalar.\n",
    "\n",
    "    Output\n",
    "    output_X  A 3D numpy array of shape: ((n_observations-lookback-1) x lookback x n_features)\n",
    "    output_y  A 1D array of shape: (n_observations-lookback-1), aligned with X.\n",
    "    '''\n",
    "    output_X = []\n",
    "    output_y = []\n",
    "    for i in range(len(X) - lookback - 1):\n",
    "        t = []\n",
    "        for j in range(1, lookback + 1):\n",
    "            # Gather the past records upto the lookback period\n",
    "            t.append(X[[(i + j + 1)], :])\n",
    "        output_X.append(t)\n",
    "        output_y.append(y[i + lookback + 1])\n",
    "    return np.squeeze(np.array(output_X)), np.array(output_y)\n",
    "\n",
    "def flatten(X):\n",
    "    '''\n",
    "    Flatten a 3D array.\n",
    "\n",
    "    Input\n",
    "    X            A 3D array for lstm, where the array is sample x timesteps x features.\n",
    "\n",
    "    Output\n",
    "    flattened_X  A 2D array, sample x features.\n",
    "    '''\n",
    "    flattened_X = np.empty(\n",
    "        (X.shape[0], X.shape[2]))  # sample x features array.\n",
    "    for i in range(X.shape[0]):\n",
    "        flattened_X[i] = X[i, (X.shape[1] - 1), :]\n",
    "    return flattened_X\n",
    "\n",
    "def scale(X, scaler):\n",
    "    '''\n",
    "    Scale 3D array.\n",
    "\n",
    "    Inputs\n",
    "    X            A 3D array for lstm, where the array is sample x timesteps x features.\n",
    "    scaler       A scaler object, e.g., sklearn.preprocessing.StandardScaler, sklearn.preprocessing.normalize\n",
    "\n",
    "    Output\n",
    "    X            Scaled 3D array.\n",
    "    '''\n",
    "    for i in range(X.shape[0]):\n",
    "        X[i, :, :] = scaler.transform(X[i, :, :])\n",
    "\n",
    "    return X"
   ]
  },
  {
   "cell_type": "code",
   "execution_count": 8,
   "metadata": {},
   "outputs": [],
   "source": [
    "lookback = 5\n",
    "X_train, y_train = temporalize(X=input_X_train, \n",
    "                      y=input_y_train, \n",
    "                      lookback=lookback)\n",
    "X_test, y_test = temporalize(X=input_X_test, \n",
    "                      y=input_y_test, \n",
    "                      lookback=lookback)"
   ]
  },
  {
   "cell_type": "code",
   "execution_count": 9,
   "metadata": {},
   "outputs": [],
   "source": [
    "X_train, X_valid, y_train, y_valid = train_test_split(\n",
    "    X_train,\n",
    "    y_train,\n",
    "    test_size=DATA_SPLIT_PCT,\n",
    "    random_state=SEED)\n",
    "\n",
    "TIMESTEPS = X_train.shape[1]  # equal to the lookback\n",
    "N_FEATURES = X_train.shape[2]  # the number of features\n",
    "\n",
    "# Initialize a scaler using the training data.\n",
    "scaler = StandardScaler().fit(flatten(X_train))\n",
    "X_train_scaled = scale(X_train, scaler)\n",
    "X_valid_scaled = scale(X_valid, scaler)\n",
    "X_test_scaled =  scale(X_test, scaler)"
   ]
  },
  {
   "cell_type": "markdown",
   "metadata": {},
   "source": [
    "# Modelo"
   ]
  },
  {
   "cell_type": "code",
   "execution_count": 10,
   "metadata": {},
   "outputs": [
    {
     "data": {
      "text/html": [
       "<pre style=\"white-space:pre;overflow-x:auto;line-height:normal;font-family:Menlo,'DejaVu Sans Mono',consolas,'Courier New',monospace\"><span style=\"font-weight: bold\">Model: \"sequential\"</span>\n",
       "</pre>\n"
      ],
      "text/plain": [
       "\u001b[1mModel: \"sequential\"\u001b[0m\n"
      ]
     },
     "metadata": {},
     "output_type": "display_data"
    },
    {
     "data": {
      "text/html": [
       "<pre style=\"white-space:pre;overflow-x:auto;line-height:normal;font-family:Menlo,'DejaVu Sans Mono',consolas,'Courier New',monospace\">┏━━━━━━━━━━━━━━━━━━━━━━━━━━━━━━━━━┳━━━━━━━━━━━━━━━━━━━━━━━━┳━━━━━━━━━━━━━━━┓\n",
       "┃<span style=\"font-weight: bold\"> Layer (type)                    </span>┃<span style=\"font-weight: bold\"> Output Shape           </span>┃<span style=\"font-weight: bold\">       Param # </span>┃\n",
       "┡━━━━━━━━━━━━━━━━━━━━━━━━━━━━━━━━━╇━━━━━━━━━━━━━━━━━━━━━━━━╇━━━━━━━━━━━━━━━┩\n",
       "│ lstm_layer_1 (<span style=\"color: #0087ff; text-decoration-color: #0087ff\">LSTM</span>)             │ (<span style=\"color: #00d7ff; text-decoration-color: #00d7ff\">None</span>, <span style=\"color: #00af00; text-decoration-color: #00af00\">5</span>, <span style=\"color: #00af00; text-decoration-color: #00af00\">16</span>)          │         <span style=\"color: #00af00; text-decoration-color: #00af00\">3,968</span> │\n",
       "├─────────────────────────────────┼────────────────────────┼───────────────┤\n",
       "│ lstm_layer_2 (<span style=\"color: #0087ff; text-decoration-color: #0087ff\">LSTM</span>)             │ (<span style=\"color: #00d7ff; text-decoration-color: #00d7ff\">None</span>, <span style=\"color: #00af00; text-decoration-color: #00af00\">8</span>)              │           <span style=\"color: #00af00; text-decoration-color: #00af00\">800</span> │\n",
       "├─────────────────────────────────┼────────────────────────┼───────────────┤\n",
       "│ output (<span style=\"color: #0087ff; text-decoration-color: #0087ff\">Dense</span>)                  │ (<span style=\"color: #00d7ff; text-decoration-color: #00d7ff\">None</span>, <span style=\"color: #00af00; text-decoration-color: #00af00\">1</span>)              │             <span style=\"color: #00af00; text-decoration-color: #00af00\">9</span> │\n",
       "└─────────────────────────────────┴────────────────────────┴───────────────┘\n",
       "</pre>\n"
      ],
      "text/plain": [
       "┏━━━━━━━━━━━━━━━━━━━━━━━━━━━━━━━━━┳━━━━━━━━━━━━━━━━━━━━━━━━┳━━━━━━━━━━━━━━━┓\n",
       "┃\u001b[1m \u001b[0m\u001b[1mLayer (type)                   \u001b[0m\u001b[1m \u001b[0m┃\u001b[1m \u001b[0m\u001b[1mOutput Shape          \u001b[0m\u001b[1m \u001b[0m┃\u001b[1m \u001b[0m\u001b[1m      Param #\u001b[0m\u001b[1m \u001b[0m┃\n",
       "┡━━━━━━━━━━━━━━━━━━━━━━━━━━━━━━━━━╇━━━━━━━━━━━━━━━━━━━━━━━━╇━━━━━━━━━━━━━━━┩\n",
       "│ lstm_layer_1 (\u001b[38;5;33mLSTM\u001b[0m)             │ (\u001b[38;5;45mNone\u001b[0m, \u001b[38;5;34m5\u001b[0m, \u001b[38;5;34m16\u001b[0m)          │         \u001b[38;5;34m3,968\u001b[0m │\n",
       "├─────────────────────────────────┼────────────────────────┼───────────────┤\n",
       "│ lstm_layer_2 (\u001b[38;5;33mLSTM\u001b[0m)             │ (\u001b[38;5;45mNone\u001b[0m, \u001b[38;5;34m8\u001b[0m)              │           \u001b[38;5;34m800\u001b[0m │\n",
       "├─────────────────────────────────┼────────────────────────┼───────────────┤\n",
       "│ output (\u001b[38;5;33mDense\u001b[0m)                  │ (\u001b[38;5;45mNone\u001b[0m, \u001b[38;5;34m1\u001b[0m)              │             \u001b[38;5;34m9\u001b[0m │\n",
       "└─────────────────────────────────┴────────────────────────┴───────────────┘\n"
      ]
     },
     "metadata": {},
     "output_type": "display_data"
    },
    {
     "data": {
      "text/html": [
       "<pre style=\"white-space:pre;overflow-x:auto;line-height:normal;font-family:Menlo,'DejaVu Sans Mono',consolas,'Courier New',monospace\"><span style=\"font-weight: bold\"> Total params: </span><span style=\"color: #00af00; text-decoration-color: #00af00\">4,777</span> (18.66 KB)\n",
       "</pre>\n"
      ],
      "text/plain": [
       "\u001b[1m Total params: \u001b[0m\u001b[38;5;34m4,777\u001b[0m (18.66 KB)\n"
      ]
     },
     "metadata": {},
     "output_type": "display_data"
    },
    {
     "data": {
      "text/html": [
       "<pre style=\"white-space:pre;overflow-x:auto;line-height:normal;font-family:Menlo,'DejaVu Sans Mono',consolas,'Courier New',monospace\"><span style=\"font-weight: bold\"> Trainable params: </span><span style=\"color: #00af00; text-decoration-color: #00af00\">4,777</span> (18.66 KB)\n",
       "</pre>\n"
      ],
      "text/plain": [
       "\u001b[1m Trainable params: \u001b[0m\u001b[38;5;34m4,777\u001b[0m (18.66 KB)\n"
      ]
     },
     "metadata": {},
     "output_type": "display_data"
    },
    {
     "data": {
      "text/html": [
       "<pre style=\"white-space:pre;overflow-x:auto;line-height:normal;font-family:Menlo,'DejaVu Sans Mono',consolas,'Courier New',monospace\"><span style=\"font-weight: bold\"> Non-trainable params: </span><span style=\"color: #00af00; text-decoration-color: #00af00\">0</span> (0.00 B)\n",
       "</pre>\n"
      ],
      "text/plain": [
       "\u001b[1m Non-trainable params: \u001b[0m\u001b[38;5;34m0\u001b[0m (0.00 B)\n"
      ]
     },
     "metadata": {},
     "output_type": "display_data"
    }
   ],
   "source": [
    "model = Sequential()\n",
    "model.add(Input(shape=(TIMESTEPS, N_FEATURES), \n",
    "                name='input'))\n",
    "model.add(\n",
    "    LSTM(units=16, \n",
    "         activation='tanh',\n",
    "         recurrent_activation='sigmoid',\n",
    "         return_sequences=True, \n",
    "         name='lstm_layer_1'))\n",
    "model.add(\n",
    "    LSTM(units=8, \n",
    "         activation='tanh', \n",
    "         recurrent_activation='sigmoid',\n",
    "         return_sequences=False, \n",
    "         name='lstm_layer_2'))\n",
    "model.add(Dense(units=1, \n",
    "                activation='linear', \n",
    "                name='output'))\n",
    "\n",
    "model.summary()"
   ]
  },
  {
   "cell_type": "code",
   "execution_count": 11,
   "metadata": {},
   "outputs": [],
   "source": [
    "model.compile(optimizer='adam',\n",
    "              loss='mse',\n",
    "              metrics=[\n",
    "                  tf.keras.metrics.RootMeanSquaredError()\n",
    "              ])"
   ]
  },
  {
   "cell_type": "code",
   "execution_count": 12,
   "metadata": {},
   "outputs": [
    {
     "name": "stdout",
     "output_type": "stream",
     "text": [
      "Epoch 1/100\n"
     ]
    },
    {
     "name": "stderr",
     "output_type": "stream",
     "text": [
      "2024-05-14 17:23:33.210918: W external/local_tsl/tsl/framework/cpu_allocator_impl.cc:83] Allocation of 88279200 exceeds 10% of free system memory.\n"
     ]
    },
    {
     "name": "stdout",
     "output_type": "stream",
     "text": [
      "\u001b[1m767/767\u001b[0m \u001b[32m━━━━━━━━━━━━━━━━━━━━\u001b[0m\u001b[37m\u001b[0m \u001b[1m9s\u001b[0m 7ms/step - loss: 5.2826 - root_mean_squared_error: 2.1649 - val_loss: 0.4455 - val_root_mean_squared_error: 0.6675\n",
      "Epoch 2/100\n",
      "\u001b[1m767/767\u001b[0m \u001b[32m━━━━━━━━━━━━━━━━━━━━\u001b[0m\u001b[37m\u001b[0m \u001b[1m5s\u001b[0m 7ms/step - loss: 0.4219 - root_mean_squared_error: 0.6494 - val_loss: 0.3723 - val_root_mean_squared_error: 0.6102\n",
      "Epoch 3/100\n",
      "\u001b[1m767/767\u001b[0m \u001b[32m━━━━━━━━━━━━━━━━━━━━\u001b[0m\u001b[37m\u001b[0m \u001b[1m5s\u001b[0m 7ms/step - loss: 0.3695 - root_mean_squared_error: 0.6078 - val_loss: 0.3525 - val_root_mean_squared_error: 0.5937\n",
      "Epoch 4/100\n",
      "\u001b[1m767/767\u001b[0m \u001b[32m━━━━━━━━━━━━━━━━━━━━\u001b[0m\u001b[37m\u001b[0m \u001b[1m5s\u001b[0m 7ms/step - loss: 0.3508 - root_mean_squared_error: 0.5923 - val_loss: 0.3417 - val_root_mean_squared_error: 0.5846\n",
      "Epoch 5/100\n",
      "\u001b[1m767/767\u001b[0m \u001b[32m━━━━━━━━━━━━━━━━━━━━\u001b[0m\u001b[37m\u001b[0m \u001b[1m5s\u001b[0m 7ms/step - loss: 0.3378 - root_mean_squared_error: 0.5812 - val_loss: 0.3355 - val_root_mean_squared_error: 0.5792\n",
      "Epoch 6/100\n",
      "\u001b[1m767/767\u001b[0m \u001b[32m━━━━━━━━━━━━━━━━━━━━\u001b[0m\u001b[37m\u001b[0m \u001b[1m5s\u001b[0m 7ms/step - loss: 0.3323 - root_mean_squared_error: 0.5764 - val_loss: 0.3341 - val_root_mean_squared_error: 0.5780\n",
      "Epoch 7/100\n",
      "\u001b[1m767/767\u001b[0m \u001b[32m━━━━━━━━━━━━━━━━━━━━\u001b[0m\u001b[37m\u001b[0m \u001b[1m5s\u001b[0m 7ms/step - loss: 0.3287 - root_mean_squared_error: 0.5733 - val_loss: 0.3256 - val_root_mean_squared_error: 0.5706\n",
      "Epoch 8/100\n",
      "\u001b[1m767/767\u001b[0m \u001b[32m━━━━━━━━━━━━━━━━━━━━\u001b[0m\u001b[37m\u001b[0m \u001b[1m5s\u001b[0m 7ms/step - loss: 0.3257 - root_mean_squared_error: 0.5707 - val_loss: 0.3231 - val_root_mean_squared_error: 0.5684\n",
      "Epoch 9/100\n",
      "\u001b[1m767/767\u001b[0m \u001b[32m━━━━━━━━━━━━━━━━━━━━\u001b[0m\u001b[37m\u001b[0m \u001b[1m5s\u001b[0m 7ms/step - loss: 0.3213 - root_mean_squared_error: 0.5668 - val_loss: 0.3213 - val_root_mean_squared_error: 0.5668\n",
      "Epoch 10/100\n",
      "\u001b[1m767/767\u001b[0m \u001b[32m━━━━━━━━━━━━━━━━━━━━\u001b[0m\u001b[37m\u001b[0m \u001b[1m5s\u001b[0m 7ms/step - loss: 0.3194 - root_mean_squared_error: 0.5652 - val_loss: 0.3157 - val_root_mean_squared_error: 0.5619\n",
      "Epoch 11/100\n",
      "\u001b[1m767/767\u001b[0m \u001b[32m━━━━━━━━━━━━━━━━━━━━\u001b[0m\u001b[37m\u001b[0m \u001b[1m5s\u001b[0m 7ms/step - loss: 0.3175 - root_mean_squared_error: 0.5635 - val_loss: 0.3151 - val_root_mean_squared_error: 0.5613\n",
      "Epoch 12/100\n",
      "\u001b[1m767/767\u001b[0m \u001b[32m━━━━━━━━━━━━━━━━━━━━\u001b[0m\u001b[37m\u001b[0m \u001b[1m5s\u001b[0m 7ms/step - loss: 0.3090 - root_mean_squared_error: 0.5559 - val_loss: 0.3129 - val_root_mean_squared_error: 0.5593\n",
      "Epoch 13/100\n",
      "\u001b[1m767/767\u001b[0m \u001b[32m━━━━━━━━━━━━━━━━━━━━\u001b[0m\u001b[37m\u001b[0m \u001b[1m5s\u001b[0m 7ms/step - loss: 0.3111 - root_mean_squared_error: 0.5578 - val_loss: 0.3118 - val_root_mean_squared_error: 0.5584\n",
      "Epoch 14/100\n",
      "\u001b[1m767/767\u001b[0m \u001b[32m━━━━━━━━━━━━━━━━━━━━\u001b[0m\u001b[37m\u001b[0m \u001b[1m5s\u001b[0m 7ms/step - loss: 0.3091 - root_mean_squared_error: 0.5559 - val_loss: 0.3171 - val_root_mean_squared_error: 0.5631\n",
      "Epoch 15/100\n",
      "\u001b[1m767/767\u001b[0m \u001b[32m━━━━━━━━━━━━━━━━━━━━\u001b[0m\u001b[37m\u001b[0m \u001b[1m5s\u001b[0m 7ms/step - loss: 0.3068 - root_mean_squared_error: 0.5539 - val_loss: 0.3086 - val_root_mean_squared_error: 0.5555\n",
      "Epoch 16/100\n",
      "\u001b[1m767/767\u001b[0m \u001b[32m━━━━━━━━━━━━━━━━━━━━\u001b[0m\u001b[37m\u001b[0m \u001b[1m5s\u001b[0m 7ms/step - loss: 0.3095 - root_mean_squared_error: 0.5563 - val_loss: 0.3095 - val_root_mean_squared_error: 0.5563\n",
      "Epoch 17/100\n",
      "\u001b[1m767/767\u001b[0m \u001b[32m━━━━━━━━━━━━━━━━━━━━\u001b[0m\u001b[37m\u001b[0m \u001b[1m5s\u001b[0m 7ms/step - loss: 0.3033 - root_mean_squared_error: 0.5507 - val_loss: 0.3063 - val_root_mean_squared_error: 0.5534\n",
      "Epoch 18/100\n",
      "\u001b[1m767/767\u001b[0m \u001b[32m━━━━━━━━━━━━━━━━━━━━\u001b[0m\u001b[37m\u001b[0m \u001b[1m5s\u001b[0m 7ms/step - loss: 0.2992 - root_mean_squared_error: 0.5470 - val_loss: 0.3095 - val_root_mean_squared_error: 0.5563\n",
      "Epoch 19/100\n",
      "\u001b[1m767/767\u001b[0m \u001b[32m━━━━━━━━━━━━━━━━━━━━\u001b[0m\u001b[37m\u001b[0m \u001b[1m5s\u001b[0m 7ms/step - loss: 0.2978 - root_mean_squared_error: 0.5456 - val_loss: 0.3030 - val_root_mean_squared_error: 0.5505\n",
      "Epoch 20/100\n",
      "\u001b[1m767/767\u001b[0m \u001b[32m━━━━━━━━━━━━━━━━━━━━\u001b[0m\u001b[37m\u001b[0m \u001b[1m5s\u001b[0m 7ms/step - loss: 0.2994 - root_mean_squared_error: 0.5472 - val_loss: 0.3031 - val_root_mean_squared_error: 0.5505\n",
      "Epoch 21/100\n",
      "\u001b[1m767/767\u001b[0m \u001b[32m━━━━━━━━━━━━━━━━━━━━\u001b[0m\u001b[37m\u001b[0m \u001b[1m5s\u001b[0m 7ms/step - loss: 0.2951 - root_mean_squared_error: 0.5433 - val_loss: 0.3031 - val_root_mean_squared_error: 0.5505\n",
      "Epoch 22/100\n",
      "\u001b[1m767/767\u001b[0m \u001b[32m━━━━━━━━━━━━━━━━━━━━\u001b[0m\u001b[37m\u001b[0m \u001b[1m5s\u001b[0m 7ms/step - loss: 0.2974 - root_mean_squared_error: 0.5454 - val_loss: 0.2993 - val_root_mean_squared_error: 0.5471\n",
      "Epoch 23/100\n",
      "\u001b[1m767/767\u001b[0m \u001b[32m━━━━━━━━━━━━━━━━━━━━\u001b[0m\u001b[37m\u001b[0m \u001b[1m5s\u001b[0m 7ms/step - loss: 0.2921 - root_mean_squared_error: 0.5405 - val_loss: 0.2995 - val_root_mean_squared_error: 0.5472\n",
      "Epoch 24/100\n",
      "\u001b[1m767/767\u001b[0m \u001b[32m━━━━━━━━━━━━━━━━━━━━\u001b[0m\u001b[37m\u001b[0m \u001b[1m5s\u001b[0m 7ms/step - loss: 0.2943 - root_mean_squared_error: 0.5425 - val_loss: 0.2974 - val_root_mean_squared_error: 0.5454\n",
      "Epoch 25/100\n",
      "\u001b[1m767/767\u001b[0m \u001b[32m━━━━━━━━━━━━━━━━━━━━\u001b[0m\u001b[37m\u001b[0m \u001b[1m5s\u001b[0m 7ms/step - loss: 0.2896 - root_mean_squared_error: 0.5382 - val_loss: 0.2991 - val_root_mean_squared_error: 0.5469\n",
      "Epoch 26/100\n",
      "\u001b[1m767/767\u001b[0m \u001b[32m━━━━━━━━━━━━━━━━━━━━\u001b[0m\u001b[37m\u001b[0m \u001b[1m5s\u001b[0m 7ms/step - loss: 0.2914 - root_mean_squared_error: 0.5398 - val_loss: 0.2998 - val_root_mean_squared_error: 0.5475\n",
      "Epoch 27/100\n",
      "\u001b[1m767/767\u001b[0m \u001b[32m━━━━━━━━━━━━━━━━━━━━\u001b[0m\u001b[37m\u001b[0m \u001b[1m5s\u001b[0m 7ms/step - loss: 0.2914 - root_mean_squared_error: 0.5398 - val_loss: 0.3007 - val_root_mean_squared_error: 0.5484\n",
      "Epoch 28/100\n",
      "\u001b[1m767/767\u001b[0m \u001b[32m━━━━━━━━━━━━━━━━━━━━\u001b[0m\u001b[37m\u001b[0m \u001b[1m5s\u001b[0m 7ms/step - loss: 0.2842 - root_mean_squared_error: 0.5331 - val_loss: 0.2948 - val_root_mean_squared_error: 0.5430\n",
      "Epoch 29/100\n",
      "\u001b[1m767/767\u001b[0m \u001b[32m━━━━━━━━━━━━━━━━━━━━\u001b[0m\u001b[37m\u001b[0m \u001b[1m5s\u001b[0m 7ms/step - loss: 0.2875 - root_mean_squared_error: 0.5361 - val_loss: 0.2952 - val_root_mean_squared_error: 0.5433\n",
      "Epoch 30/100\n",
      "\u001b[1m767/767\u001b[0m \u001b[32m━━━━━━━━━━━━━━━━━━━━\u001b[0m\u001b[37m\u001b[0m \u001b[1m5s\u001b[0m 7ms/step - loss: 0.2833 - root_mean_squared_error: 0.5322 - val_loss: 0.2951 - val_root_mean_squared_error: 0.5432\n",
      "Epoch 31/100\n",
      "\u001b[1m767/767\u001b[0m \u001b[32m━━━━━━━━━━━━━━━━━━━━\u001b[0m\u001b[37m\u001b[0m \u001b[1m5s\u001b[0m 7ms/step - loss: 0.2848 - root_mean_squared_error: 0.5336 - val_loss: 0.2952 - val_root_mean_squared_error: 0.5433\n",
      "Epoch 32/100\n",
      "\u001b[1m767/767\u001b[0m \u001b[32m━━━━━━━━━━━━━━━━━━━━\u001b[0m\u001b[37m\u001b[0m \u001b[1m5s\u001b[0m 7ms/step - loss: 0.2814 - root_mean_squared_error: 0.5304 - val_loss: 0.2943 - val_root_mean_squared_error: 0.5425\n",
      "Epoch 33/100\n",
      "\u001b[1m767/767\u001b[0m \u001b[32m━━━━━━━━━━━━━━━━━━━━\u001b[0m\u001b[37m\u001b[0m \u001b[1m5s\u001b[0m 7ms/step - loss: 0.2820 - root_mean_squared_error: 0.5311 - val_loss: 0.2923 - val_root_mean_squared_error: 0.5407\n",
      "Epoch 34/100\n",
      "\u001b[1m767/767\u001b[0m \u001b[32m━━━━━━━━━━━━━━━━━━━━\u001b[0m\u001b[37m\u001b[0m \u001b[1m6s\u001b[0m 7ms/step - loss: 0.2840 - root_mean_squared_error: 0.5329 - val_loss: 0.2903 - val_root_mean_squared_error: 0.5388\n",
      "Epoch 35/100\n",
      "\u001b[1m767/767\u001b[0m \u001b[32m━━━━━━━━━━━━━━━━━━━━\u001b[0m\u001b[37m\u001b[0m \u001b[1m5s\u001b[0m 7ms/step - loss: 0.2813 - root_mean_squared_error: 0.5304 - val_loss: 0.2919 - val_root_mean_squared_error: 0.5403\n",
      "Epoch 36/100\n",
      "\u001b[1m767/767\u001b[0m \u001b[32m━━━━━━━━━━━━━━━━━━━━\u001b[0m\u001b[37m\u001b[0m \u001b[1m5s\u001b[0m 7ms/step - loss: 0.2812 - root_mean_squared_error: 0.5303 - val_loss: 0.2917 - val_root_mean_squared_error: 0.5401\n",
      "Epoch 37/100\n",
      "\u001b[1m767/767\u001b[0m \u001b[32m━━━━━━━━━━━━━━━━━━━━\u001b[0m\u001b[37m\u001b[0m \u001b[1m5s\u001b[0m 7ms/step - loss: 0.2766 - root_mean_squared_error: 0.5259 - val_loss: 0.2952 - val_root_mean_squared_error: 0.5433\n",
      "Epoch 38/100\n",
      "\u001b[1m767/767\u001b[0m \u001b[32m━━━━━━━━━━━━━━━━━━━━\u001b[0m\u001b[37m\u001b[0m \u001b[1m5s\u001b[0m 7ms/step - loss: 0.2783 - root_mean_squared_error: 0.5276 - val_loss: 0.2910 - val_root_mean_squared_error: 0.5394\n",
      "Epoch 39/100\n",
      "\u001b[1m767/767\u001b[0m \u001b[32m━━━━━━━━━━━━━━━━━━━━\u001b[0m\u001b[37m\u001b[0m \u001b[1m5s\u001b[0m 7ms/step - loss: 0.2784 - root_mean_squared_error: 0.5276 - val_loss: 0.2895 - val_root_mean_squared_error: 0.5380\n",
      "Epoch 40/100\n",
      "\u001b[1m767/767\u001b[0m \u001b[32m━━━━━━━━━━━━━━━━━━━━\u001b[0m\u001b[37m\u001b[0m \u001b[1m5s\u001b[0m 7ms/step - loss: 0.2729 - root_mean_squared_error: 0.5223 - val_loss: 0.2897 - val_root_mean_squared_error: 0.5382\n",
      "Epoch 41/100\n",
      "\u001b[1m767/767\u001b[0m \u001b[32m━━━━━━━━━━━━━━━━━━━━\u001b[0m\u001b[37m\u001b[0m \u001b[1m5s\u001b[0m 7ms/step - loss: 0.2757 - root_mean_squared_error: 0.5251 - val_loss: 0.2916 - val_root_mean_squared_error: 0.5400\n",
      "Epoch 42/100\n",
      "\u001b[1m767/767\u001b[0m \u001b[32m━━━━━━━━━━━━━━━━━━━━\u001b[0m\u001b[37m\u001b[0m \u001b[1m5s\u001b[0m 7ms/step - loss: 0.2756 - root_mean_squared_error: 0.5250 - val_loss: 0.2902 - val_root_mean_squared_error: 0.5387\n",
      "Epoch 43/100\n",
      "\u001b[1m767/767\u001b[0m \u001b[32m━━━━━━━━━━━━━━━━━━━━\u001b[0m\u001b[37m\u001b[0m \u001b[1m5s\u001b[0m 7ms/step - loss: 0.2743 - root_mean_squared_error: 0.5237 - val_loss: 0.2920 - val_root_mean_squared_error: 0.5403\n",
      "Epoch 44/100\n",
      "\u001b[1m767/767\u001b[0m \u001b[32m━━━━━━━━━━━━━━━━━━━━\u001b[0m\u001b[37m\u001b[0m \u001b[1m5s\u001b[0m 7ms/step - loss: 0.2735 - root_mean_squared_error: 0.5229 - val_loss: 0.2892 - val_root_mean_squared_error: 0.5378\n",
      "Epoch 45/100\n",
      "\u001b[1m767/767\u001b[0m \u001b[32m━━━━━━━━━━━━━━━━━━━━\u001b[0m\u001b[37m\u001b[0m \u001b[1m5s\u001b[0m 7ms/step - loss: 0.2729 - root_mean_squared_error: 0.5224 - val_loss: 0.2876 - val_root_mean_squared_error: 0.5363\n",
      "Epoch 46/100\n",
      "\u001b[1m767/767\u001b[0m \u001b[32m━━━━━━━━━━━━━━━━━━━━\u001b[0m\u001b[37m\u001b[0m \u001b[1m5s\u001b[0m 7ms/step - loss: 0.2700 - root_mean_squared_error: 0.5196 - val_loss: 0.2881 - val_root_mean_squared_error: 0.5368\n",
      "Epoch 47/100\n",
      "\u001b[1m767/767\u001b[0m \u001b[32m━━━━━━━━━━━━━━━━━━━━\u001b[0m\u001b[37m\u001b[0m \u001b[1m5s\u001b[0m 7ms/step - loss: 0.2704 - root_mean_squared_error: 0.5200 - val_loss: 0.2907 - val_root_mean_squared_error: 0.5391\n",
      "Epoch 48/100\n",
      "\u001b[1m767/767\u001b[0m \u001b[32m━━━━━━━━━━━━━━━━━━━━\u001b[0m\u001b[37m\u001b[0m \u001b[1m5s\u001b[0m 7ms/step - loss: 0.2705 - root_mean_squared_error: 0.5201 - val_loss: 0.2877 - val_root_mean_squared_error: 0.5363\n",
      "Epoch 49/100\n",
      "\u001b[1m767/767\u001b[0m \u001b[32m━━━━━━━━━━━━━━━━━━━━\u001b[0m\u001b[37m\u001b[0m \u001b[1m5s\u001b[0m 7ms/step - loss: 0.2692 - root_mean_squared_error: 0.5188 - val_loss: 0.2843 - val_root_mean_squared_error: 0.5332\n",
      "Epoch 50/100\n",
      "\u001b[1m767/767\u001b[0m \u001b[32m━━━━━━━━━━━━━━━━━━━━\u001b[0m\u001b[37m\u001b[0m \u001b[1m5s\u001b[0m 7ms/step - loss: 0.2687 - root_mean_squared_error: 0.5184 - val_loss: 0.2852 - val_root_mean_squared_error: 0.5340\n",
      "Epoch 51/100\n",
      "\u001b[1m767/767\u001b[0m \u001b[32m━━━━━━━━━━━━━━━━━━━━\u001b[0m\u001b[37m\u001b[0m \u001b[1m5s\u001b[0m 7ms/step - loss: 0.2678 - root_mean_squared_error: 0.5175 - val_loss: 0.2871 - val_root_mean_squared_error: 0.5359\n",
      "Epoch 52/100\n",
      "\u001b[1m767/767\u001b[0m \u001b[32m━━━━━━━━━━━━━━━━━━━━\u001b[0m\u001b[37m\u001b[0m \u001b[1m5s\u001b[0m 7ms/step - loss: 0.2667 - root_mean_squared_error: 0.5164 - val_loss: 0.2833 - val_root_mean_squared_error: 0.5322\n",
      "Epoch 53/100\n",
      "\u001b[1m767/767\u001b[0m \u001b[32m━━━━━━━━━━━━━━━━━━━━\u001b[0m\u001b[37m\u001b[0m \u001b[1m5s\u001b[0m 7ms/step - loss: 0.2633 - root_mean_squared_error: 0.5132 - val_loss: 0.2861 - val_root_mean_squared_error: 0.5349\n",
      "Epoch 54/100\n",
      "\u001b[1m767/767\u001b[0m \u001b[32m━━━━━━━━━━━━━━━━━━━━\u001b[0m\u001b[37m\u001b[0m \u001b[1m5s\u001b[0m 7ms/step - loss: 0.2673 - root_mean_squared_error: 0.5170 - val_loss: 0.2846 - val_root_mean_squared_error: 0.5335\n",
      "Epoch 55/100\n",
      "\u001b[1m767/767\u001b[0m \u001b[32m━━━━━━━━━━━━━━━━━━━━\u001b[0m\u001b[37m\u001b[0m \u001b[1m5s\u001b[0m 7ms/step - loss: 0.2633 - root_mean_squared_error: 0.5131 - val_loss: 0.2836 - val_root_mean_squared_error: 0.5325\n",
      "Epoch 56/100\n",
      "\u001b[1m767/767\u001b[0m \u001b[32m━━━━━━━━━━━━━━━━━━━━\u001b[0m\u001b[37m\u001b[0m \u001b[1m5s\u001b[0m 7ms/step - loss: 0.2617 - root_mean_squared_error: 0.5115 - val_loss: 0.2823 - val_root_mean_squared_error: 0.5313\n",
      "Epoch 57/100\n",
      "\u001b[1m767/767\u001b[0m \u001b[32m━━━━━━━━━━━━━━━━━━━━\u001b[0m\u001b[37m\u001b[0m \u001b[1m5s\u001b[0m 7ms/step - loss: 0.2638 - root_mean_squared_error: 0.5137 - val_loss: 0.2838 - val_root_mean_squared_error: 0.5327\n",
      "Epoch 58/100\n",
      "\u001b[1m767/767\u001b[0m \u001b[32m━━━━━━━━━━━━━━━━━━━━\u001b[0m\u001b[37m\u001b[0m \u001b[1m5s\u001b[0m 7ms/step - loss: 0.2616 - root_mean_squared_error: 0.5115 - val_loss: 0.2865 - val_root_mean_squared_error: 0.5352\n",
      "Epoch 59/100\n",
      "\u001b[1m767/767\u001b[0m \u001b[32m━━━━━━━━━━━━━━━━━━━━\u001b[0m\u001b[37m\u001b[0m \u001b[1m5s\u001b[0m 7ms/step - loss: 0.2633 - root_mean_squared_error: 0.5131 - val_loss: 0.2821 - val_root_mean_squared_error: 0.5312\n",
      "Epoch 60/100\n",
      "\u001b[1m767/767\u001b[0m \u001b[32m━━━━━━━━━━━━━━━━━━━━\u001b[0m\u001b[37m\u001b[0m \u001b[1m5s\u001b[0m 7ms/step - loss: 0.2633 - root_mean_squared_error: 0.5131 - val_loss: 0.2876 - val_root_mean_squared_error: 0.5362\n",
      "Epoch 61/100\n",
      "\u001b[1m767/767\u001b[0m \u001b[32m━━━━━━━━━━━━━━━━━━━━\u001b[0m\u001b[37m\u001b[0m \u001b[1m5s\u001b[0m 7ms/step - loss: 0.2629 - root_mean_squared_error: 0.5127 - val_loss: 0.2803 - val_root_mean_squared_error: 0.5295\n",
      "Epoch 62/100\n",
      "\u001b[1m767/767\u001b[0m \u001b[32m━━━━━━━━━━━━━━━━━━━━\u001b[0m\u001b[37m\u001b[0m \u001b[1m5s\u001b[0m 7ms/step - loss: 0.2580 - root_mean_squared_error: 0.5080 - val_loss: 0.2815 - val_root_mean_squared_error: 0.5306\n",
      "Epoch 63/100\n",
      "\u001b[1m767/767\u001b[0m \u001b[32m━━━━━━━━━━━━━━━━━━━━\u001b[0m\u001b[37m\u001b[0m \u001b[1m5s\u001b[0m 7ms/step - loss: 0.2608 - root_mean_squared_error: 0.5107 - val_loss: 0.2808 - val_root_mean_squared_error: 0.5299\n",
      "Epoch 64/100\n",
      "\u001b[1m767/767\u001b[0m \u001b[32m━━━━━━━━━━━━━━━━━━━━\u001b[0m\u001b[37m\u001b[0m \u001b[1m5s\u001b[0m 7ms/step - loss: 0.2593 - root_mean_squared_error: 0.5092 - val_loss: 0.2806 - val_root_mean_squared_error: 0.5297\n",
      "Epoch 65/100\n",
      "\u001b[1m767/767\u001b[0m \u001b[32m━━━━━━━━━━━━━━━━━━━━\u001b[0m\u001b[37m\u001b[0m \u001b[1m5s\u001b[0m 7ms/step - loss: 0.2570 - root_mean_squared_error: 0.5070 - val_loss: 0.2816 - val_root_mean_squared_error: 0.5307\n",
      "Epoch 66/100\n",
      "\u001b[1m767/767\u001b[0m \u001b[32m━━━━━━━━━━━━━━━━━━━━\u001b[0m\u001b[37m\u001b[0m \u001b[1m5s\u001b[0m 7ms/step - loss: 0.2625 - root_mean_squared_error: 0.5124 - val_loss: 0.2810 - val_root_mean_squared_error: 0.5301\n",
      "Epoch 67/100\n",
      "\u001b[1m767/767\u001b[0m \u001b[32m━━━━━━━━━━━━━━━━━━━━\u001b[0m\u001b[37m\u001b[0m \u001b[1m5s\u001b[0m 7ms/step - loss: 0.2559 - root_mean_squared_error: 0.5058 - val_loss: 0.2795 - val_root_mean_squared_error: 0.5286\n",
      "Epoch 68/100\n",
      "\u001b[1m767/767\u001b[0m \u001b[32m━━━━━━━━━━━━━━━━━━━━\u001b[0m\u001b[37m\u001b[0m \u001b[1m5s\u001b[0m 7ms/step - loss: 0.2583 - root_mean_squared_error: 0.5083 - val_loss: 0.2785 - val_root_mean_squared_error: 0.5277\n",
      "Epoch 69/100\n",
      "\u001b[1m767/767\u001b[0m \u001b[32m━━━━━━━━━━━━━━━━━━━━\u001b[0m\u001b[37m\u001b[0m \u001b[1m5s\u001b[0m 7ms/step - loss: 0.2596 - root_mean_squared_error: 0.5096 - val_loss: 0.2824 - val_root_mean_squared_error: 0.5314\n",
      "Epoch 70/100\n",
      "\u001b[1m767/767\u001b[0m \u001b[32m━━━━━━━━━━━━━━━━━━━━\u001b[0m\u001b[37m\u001b[0m \u001b[1m5s\u001b[0m 7ms/step - loss: 0.2556 - root_mean_squared_error: 0.5055 - val_loss: 0.2770 - val_root_mean_squared_error: 0.5263\n",
      "Epoch 71/100\n",
      "\u001b[1m767/767\u001b[0m \u001b[32m━━━━━━━━━━━━━━━━━━━━\u001b[0m\u001b[37m\u001b[0m \u001b[1m5s\u001b[0m 7ms/step - loss: 0.2557 - root_mean_squared_error: 0.5056 - val_loss: 0.2794 - val_root_mean_squared_error: 0.5286\n",
      "Epoch 72/100\n",
      "\u001b[1m767/767\u001b[0m \u001b[32m━━━━━━━━━━━━━━━━━━━━\u001b[0m\u001b[37m\u001b[0m \u001b[1m5s\u001b[0m 7ms/step - loss: 0.2562 - root_mean_squared_error: 0.5062 - val_loss: 0.2840 - val_root_mean_squared_error: 0.5329\n",
      "Epoch 73/100\n",
      "\u001b[1m767/767\u001b[0m \u001b[32m━━━━━━━━━━━━━━━━━━━━\u001b[0m\u001b[37m\u001b[0m \u001b[1m5s\u001b[0m 7ms/step - loss: 0.2541 - root_mean_squared_error: 0.5041 - val_loss: 0.2784 - val_root_mean_squared_error: 0.5277\n",
      "Epoch 74/100\n",
      "\u001b[1m767/767\u001b[0m \u001b[32m━━━━━━━━━━━━━━━━━━━━\u001b[0m\u001b[37m\u001b[0m \u001b[1m5s\u001b[0m 7ms/step - loss: 0.2550 - root_mean_squared_error: 0.5049 - val_loss: 0.2790 - val_root_mean_squared_error: 0.5283\n",
      "Epoch 75/100\n",
      "\u001b[1m767/767\u001b[0m \u001b[32m━━━━━━━━━━━━━━━━━━━━\u001b[0m\u001b[37m\u001b[0m \u001b[1m5s\u001b[0m 7ms/step - loss: 0.2535 - root_mean_squared_error: 0.5035 - val_loss: 0.2773 - val_root_mean_squared_error: 0.5266\n",
      "Epoch 76/100\n",
      "\u001b[1m767/767\u001b[0m \u001b[32m━━━━━━━━━━━━━━━━━━━━\u001b[0m\u001b[37m\u001b[0m \u001b[1m5s\u001b[0m 7ms/step - loss: 0.2551 - root_mean_squared_error: 0.5051 - val_loss: 0.2816 - val_root_mean_squared_error: 0.5307\n",
      "Epoch 77/100\n",
      "\u001b[1m767/767\u001b[0m \u001b[32m━━━━━━━━━━━━━━━━━━━━\u001b[0m\u001b[37m\u001b[0m \u001b[1m5s\u001b[0m 7ms/step - loss: 0.2533 - root_mean_squared_error: 0.5033 - val_loss: 0.2776 - val_root_mean_squared_error: 0.5268\n",
      "Epoch 78/100\n",
      "\u001b[1m767/767\u001b[0m \u001b[32m━━━━━━━━━━━━━━━━━━━━\u001b[0m\u001b[37m\u001b[0m \u001b[1m5s\u001b[0m 7ms/step - loss: 0.2524 - root_mean_squared_error: 0.5023 - val_loss: 0.2789 - val_root_mean_squared_error: 0.5281\n",
      "Epoch 79/100\n",
      "\u001b[1m767/767\u001b[0m \u001b[32m━━━━━━━━━━━━━━━━━━━━\u001b[0m\u001b[37m\u001b[0m \u001b[1m5s\u001b[0m 7ms/step - loss: 0.2527 - root_mean_squared_error: 0.5026 - val_loss: 0.2804 - val_root_mean_squared_error: 0.5295\n",
      "Epoch 80/100\n",
      "\u001b[1m767/767\u001b[0m \u001b[32m━━━━━━━━━━━━━━━━━━━━\u001b[0m\u001b[37m\u001b[0m \u001b[1m10s\u001b[0m 7ms/step - loss: 0.2520 - root_mean_squared_error: 0.5020 - val_loss: 0.2773 - val_root_mean_squared_error: 0.5265\n",
      "Epoch 81/100\n",
      "\u001b[1m767/767\u001b[0m \u001b[32m━━━━━━━━━━━━━━━━━━━━\u001b[0m\u001b[37m\u001b[0m \u001b[1m5s\u001b[0m 7ms/step - loss: 0.2517 - root_mean_squared_error: 0.5017 - val_loss: 0.2764 - val_root_mean_squared_error: 0.5257\n",
      "Epoch 82/100\n",
      "\u001b[1m767/767\u001b[0m \u001b[32m━━━━━━━━━━━━━━━━━━━━\u001b[0m\u001b[37m\u001b[0m \u001b[1m5s\u001b[0m 7ms/step - loss: 0.2530 - root_mean_squared_error: 0.5030 - val_loss: 0.2769 - val_root_mean_squared_error: 0.5262\n",
      "Epoch 83/100\n",
      "\u001b[1m767/767\u001b[0m \u001b[32m━━━━━━━━━━━━━━━━━━━━\u001b[0m\u001b[37m\u001b[0m \u001b[1m5s\u001b[0m 7ms/step - loss: 0.2505 - root_mean_squared_error: 0.5005 - val_loss: 0.2842 - val_root_mean_squared_error: 0.5331\n",
      "Epoch 84/100\n",
      "\u001b[1m767/767\u001b[0m \u001b[32m━━━━━━━━━━━━━━━━━━━━\u001b[0m\u001b[37m\u001b[0m \u001b[1m10s\u001b[0m 7ms/step - loss: 0.2521 - root_mean_squared_error: 0.5021 - val_loss: 0.2765 - val_root_mean_squared_error: 0.5258\n",
      "Epoch 85/100\n",
      "\u001b[1m767/767\u001b[0m \u001b[32m━━━━━━━━━━━━━━━━━━━━\u001b[0m\u001b[37m\u001b[0m \u001b[1m5s\u001b[0m 7ms/step - loss: 0.2499 - root_mean_squared_error: 0.4999 - val_loss: 0.2768 - val_root_mean_squared_error: 0.5261\n",
      "Epoch 86/100\n",
      "\u001b[1m767/767\u001b[0m \u001b[32m━━━━━━━━━━━━━━━━━━━━\u001b[0m\u001b[37m\u001b[0m \u001b[1m5s\u001b[0m 7ms/step - loss: 0.2508 - root_mean_squared_error: 0.5008 - val_loss: 0.2757 - val_root_mean_squared_error: 0.5250\n",
      "Epoch 87/100\n",
      "\u001b[1m767/767\u001b[0m \u001b[32m━━━━━━━━━━━━━━━━━━━━\u001b[0m\u001b[37m\u001b[0m \u001b[1m5s\u001b[0m 7ms/step - loss: 0.2490 - root_mean_squared_error: 0.4990 - val_loss: 0.2761 - val_root_mean_squared_error: 0.5254\n",
      "Epoch 88/100\n",
      "\u001b[1m767/767\u001b[0m \u001b[32m━━━━━━━━━━━━━━━━━━━━\u001b[0m\u001b[37m\u001b[0m \u001b[1m5s\u001b[0m 7ms/step - loss: 0.2493 - root_mean_squared_error: 0.4993 - val_loss: 0.2760 - val_root_mean_squared_error: 0.5254\n",
      "Epoch 89/100\n",
      "\u001b[1m767/767\u001b[0m \u001b[32m━━━━━━━━━━━━━━━━━━━━\u001b[0m\u001b[37m\u001b[0m \u001b[1m4s\u001b[0m 5ms/step - loss: 0.2513 - root_mean_squared_error: 0.5013 - val_loss: 0.2782 - val_root_mean_squared_error: 0.5274\n",
      "Epoch 90/100\n",
      "\u001b[1m767/767\u001b[0m \u001b[32m━━━━━━━━━━━━━━━━━━━━\u001b[0m\u001b[37m\u001b[0m \u001b[1m3s\u001b[0m 4ms/step - loss: 0.2475 - root_mean_squared_error: 0.4975 - val_loss: 0.2763 - val_root_mean_squared_error: 0.5257\n",
      "Epoch 91/100\n",
      "\u001b[1m767/767\u001b[0m \u001b[32m━━━━━━━━━━━━━━━━━━━━\u001b[0m\u001b[37m\u001b[0m \u001b[1m3s\u001b[0m 4ms/step - loss: 0.2479 - root_mean_squared_error: 0.4979 - val_loss: 0.2769 - val_root_mean_squared_error: 0.5262\n",
      "Epoch 92/100\n",
      "\u001b[1m767/767\u001b[0m \u001b[32m━━━━━━━━━━━━━━━━━━━━\u001b[0m\u001b[37m\u001b[0m \u001b[1m7s\u001b[0m 7ms/step - loss: 0.2496 - root_mean_squared_error: 0.4996 - val_loss: 0.2774 - val_root_mean_squared_error: 0.5267\n",
      "Epoch 93/100\n",
      "\u001b[1m767/767\u001b[0m \u001b[32m━━━━━━━━━━━━━━━━━━━━\u001b[0m\u001b[37m\u001b[0m \u001b[1m5s\u001b[0m 7ms/step - loss: 0.2442 - root_mean_squared_error: 0.4942 - val_loss: 0.2761 - val_root_mean_squared_error: 0.5255\n",
      "Epoch 94/100\n",
      "\u001b[1m767/767\u001b[0m \u001b[32m━━━━━━━━━━━━━━━━━━━━\u001b[0m\u001b[37m\u001b[0m \u001b[1m5s\u001b[0m 7ms/step - loss: 0.2466 - root_mean_squared_error: 0.4965 - val_loss: 0.2753 - val_root_mean_squared_error: 0.5247\n",
      "Epoch 95/100\n",
      "\u001b[1m767/767\u001b[0m \u001b[32m━━━━━━━━━━━━━━━━━━━━\u001b[0m\u001b[37m\u001b[0m \u001b[1m5s\u001b[0m 7ms/step - loss: 0.2469 - root_mean_squared_error: 0.4969 - val_loss: 0.2761 - val_root_mean_squared_error: 0.5254\n",
      "Epoch 96/100\n",
      "\u001b[1m767/767\u001b[0m \u001b[32m━━━━━━━━━━━━━━━━━━━━\u001b[0m\u001b[37m\u001b[0m \u001b[1m5s\u001b[0m 7ms/step - loss: 0.2496 - root_mean_squared_error: 0.4996 - val_loss: 0.2783 - val_root_mean_squared_error: 0.5275\n",
      "Epoch 97/100\n",
      "\u001b[1m767/767\u001b[0m \u001b[32m━━━━━━━━━━━━━━━━━━━━\u001b[0m\u001b[37m\u001b[0m \u001b[1m5s\u001b[0m 7ms/step - loss: 0.2485 - root_mean_squared_error: 0.4985 - val_loss: 0.2760 - val_root_mean_squared_error: 0.5254\n",
      "Epoch 98/100\n",
      "\u001b[1m767/767\u001b[0m \u001b[32m━━━━━━━━━━━━━━━━━━━━\u001b[0m\u001b[37m\u001b[0m \u001b[1m5s\u001b[0m 7ms/step - loss: 0.2456 - root_mean_squared_error: 0.4956 - val_loss: 0.2778 - val_root_mean_squared_error: 0.5271\n",
      "Epoch 99/100\n",
      "\u001b[1m767/767\u001b[0m \u001b[32m━━━━━━━━━━━━━━━━━━━━\u001b[0m\u001b[37m\u001b[0m \u001b[1m5s\u001b[0m 7ms/step - loss: 0.2448 - root_mean_squared_error: 0.4947 - val_loss: 0.2767 - val_root_mean_squared_error: 0.5260\n",
      "Epoch 100/100\n",
      "\u001b[1m767/767\u001b[0m \u001b[32m━━━━━━━━━━━━━━━━━━━━\u001b[0m\u001b[37m\u001b[0m \u001b[1m5s\u001b[0m 7ms/step - loss: 0.2447 - root_mean_squared_error: 0.4947 - val_loss: 0.2767 - val_root_mean_squared_error: 0.5260\n"
     ]
    }
   ],
   "source": [
    "history = model.fit(x= np.asarray(X_train_scaled).astype('float32'),\n",
    "                    y=y_train,\n",
    "                    batch_size=128,\n",
    "                    epochs=100,\n",
    "                    validation_data=(np.asarray(X_valid_scaled).astype('float32'), \n",
    "                                     y_valid),\n",
    "                    verbose=1).history"
   ]
  },
  {
   "cell_type": "code",
   "execution_count": 16,
   "metadata": {},
   "outputs": [
    {
     "name": "stdout",
     "output_type": "stream",
     "text": [
      "\u001b[1m273/273\u001b[0m \u001b[32m━━━━━━━━━━━━━━━━━━━━\u001b[0m\u001b[37m\u001b[0m \u001b[1m1s\u001b[0m 3ms/step\n"
     ]
    }
   ],
   "source": [
    "p = model.predict(np.asarray(X_test_scaled).astype('float32'))\n",
    "res = pd.DataFrame(p)\n",
    "res.to_csv(\"lstm_output.csv\")"
   ]
  }
 ],
 "metadata": {
  "kernelspec": {
   "display_name": "base",
   "language": "python",
   "name": "python3"
  },
  "language_info": {
   "codemirror_mode": {
    "name": "ipython",
    "version": 3
   },
   "file_extension": ".py",
   "mimetype": "text/x-python",
   "name": "python",
   "nbconvert_exporter": "python",
   "pygments_lexer": "ipython3",
   "version": "3.11.5"
  }
 },
 "nbformat": 4,
 "nbformat_minor": 2
}
