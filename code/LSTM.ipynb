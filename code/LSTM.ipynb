{
 "cells": [
  {
   "cell_type": "code",
   "execution_count": 1,
   "metadata": {},
   "outputs": [
    {
     "name": "stderr",
     "output_type": "stream",
     "text": [
      "2024-05-15 15:19:18.641164: I external/local_tsl/tsl/cuda/cudart_stub.cc:32] Could not find cuda drivers on your machine, GPU will not be used.\n",
      "2024-05-15 15:19:18.761867: I external/local_tsl/tsl/cuda/cudart_stub.cc:32] Could not find cuda drivers on your machine, GPU will not be used.\n",
      "2024-05-15 15:19:19.257756: I tensorflow/core/platform/cpu_feature_guard.cc:210] This TensorFlow binary is optimized to use available CPU instructions in performance-critical operations.\n",
      "To enable the following instructions: AVX2 FMA, in other operations, rebuild TensorFlow with the appropriate compiler flags.\n",
      "2024-05-15 15:19:21.143522: W tensorflow/compiler/tf2tensorrt/utils/py_utils.cc:38] TF-TRT Warning: Could not find TensorRT\n"
     ]
    }
   ],
   "source": [
    "import tensorflow as tf\n",
    "\n",
    "import pandas as pd\n",
    "import numpy as np\n",
    "\n",
    "import tensorflow as tf\n",
    "from tensorflow.keras import optimizers\n",
    "from tensorflow.keras.models import Model\n",
    "from tensorflow.keras.models import Sequential\n",
    "from tensorflow.keras.layers import Input\n",
    "from tensorflow.keras.layers import Dense\n",
    "from tensorflow.keras.layers import Dropout\n",
    "from tensorflow.keras.layers import LSTM\n",
    "from tensorflow.keras.layers import RepeatVector\n",
    "from tensorflow.keras.layers import TimeDistributed\n",
    "from tensorflow.keras.layers import Flatten\n",
    "from tensorflow.keras.layers import Bidirectional\n",
    "\n",
    "from tensorflow.python.keras import backend as K\n",
    "\n",
    "from sklearn.preprocessing import StandardScaler\n",
    "from sklearn.model_selection import train_test_split\n",
    "\n",
    "import matplotlib.pyplot as plt\n",
    "import seaborn as sns\n",
    "\n",
    "from numpy.random import seed\n",
    "\n",
    "\n",
    "SEED = 123  # used to help randomly select the data points\n",
    "DATA_SPLIT_PCT = 0.2\n",
    "\n",
    "df = pd.read_csv(\"reanalysis.csv\")"
   ]
  },
  {
   "cell_type": "code",
   "execution_count": 2,
   "metadata": {},
   "outputs": [],
   "source": [
    "# Convert Categorical column to hot dummy columns\n",
    "hotencoding1 = pd.get_dummies(df['month'])\n",
    "hotencoding1 = hotencoding1.add_prefix('month')\n",
    "hotencoding2 = pd.get_dummies(df['hour'])\n",
    "hotencoding2 = hotencoding2.add_prefix('hour')\n",
    "\n",
    "df=df.drop(['month', 'hour'], axis=1)\n",
    "\n",
    "df=pd.concat([df, hotencoding1, hotencoding2], axis=1)\n",
    "\n",
    "# Rename response column name for ease of understanding\n",
    "df=df.rename(columns={'sfcWind':'y'})\n",
    "\n",
    "#Filter the rows with time less than 2015-01-01\n",
    "df_train = df[df['time'] < '2013-12-31 23:59:00']\n",
    "df_test = df[df['time'] >= '2013-12-31 23:59:00']\n",
    "\n",
    "df_train = df_train.set_index('time')\n",
    "df_test = df_test.set_index('time')"
   ]
  },
  {
   "cell_type": "code",
   "execution_count": 3,
   "metadata": {},
   "outputs": [],
   "source": [
    "input_X_train = df_train.loc[:, df_train.columns != 'y'].values  # converts df to numpy array\n",
    "input_X_test = df_test.loc[:, df_test.columns != 'y'].values  \n",
    "input_y_train = df_train['y'].values\n",
    "input_y_test = df_test['y'].values\n",
    "\n",
    "n_features = input_X_train.shape[1]  # number of features"
   ]
  },
  {
   "cell_type": "code",
   "execution_count": 4,
   "metadata": {},
   "outputs": [],
   "source": [
    "def temporalize(X, y, lookback):\n",
    "    '''\n",
    "    Inputs\n",
    "    X         A 2D numpy array ordered by time of shape: (n_observations x n_features)\n",
    "    y         A 1D numpy array with indexes aligned with X, i.e. y[i] should correspond to X[i]. Shape: n_observations.\n",
    "    lookback  The window size to look back in the past records. Shape: a scalar.\n",
    "\n",
    "    Output\n",
    "    output_X  A 3D numpy array of shape: ((n_observations-lookback-1) x lookback x n_features)\n",
    "    output_y  A 1D array of shape: (n_observations-lookback-1), aligned with X.\n",
    "    '''\n",
    "    output_X = []\n",
    "    output_y = []\n",
    "    for i in range(len(X) - lookback - 1):\n",
    "        t = []\n",
    "        for j in range(1, lookback + 1):\n",
    "            # Gather the past records upto the lookback period\n",
    "            t.append(X[[(i + j + 1)], :])\n",
    "        output_X.append(t)\n",
    "        output_y.append(y[i + lookback + 1])\n",
    "    return np.squeeze(np.array(output_X)), np.array(output_y)\n",
    "\n",
    "def flatten(X):\n",
    "    '''\n",
    "    Flatten a 3D array.\n",
    "\n",
    "    Input\n",
    "    X            A 3D array for lstm, where the array is sample x timesteps x features.\n",
    "\n",
    "    Output\n",
    "    flattened_X  A 2D array, sample x features.\n",
    "    '''\n",
    "    flattened_X = np.empty(\n",
    "        (X.shape[0], X.shape[2]))  # sample x features array.\n",
    "    for i in range(X.shape[0]):\n",
    "        flattened_X[i] = X[i, (X.shape[1] - 1), :]\n",
    "    return flattened_X\n",
    "\n",
    "def scale(X, scaler):\n",
    "    '''\n",
    "    Scale 3D array.\n",
    "\n",
    "    Inputs\n",
    "    X            A 3D array for lstm, where the array is sample x timesteps x features.\n",
    "    scaler       A scaler object, e.g., sklearn.preprocessing.StandardScaler, sklearn.preprocessing.normalize\n",
    "\n",
    "    Output\n",
    "    X            Scaled 3D array.\n",
    "    '''\n",
    "    for i in range(X.shape[0]):\n",
    "        X[i, :, :] = scaler.transform(X[i, :, :])\n",
    "\n",
    "    return X"
   ]
  },
  {
   "cell_type": "code",
   "execution_count": 5,
   "metadata": {},
   "outputs": [],
   "source": [
    "lookback = 5\n",
    "X_train, y_train = temporalize(X=input_X_train, \n",
    "                      y=input_y_train, \n",
    "                      lookback=lookback)\n",
    "X_test, y_test = temporalize(X=input_X_test, \n",
    "                      y=input_y_test, \n",
    "                      lookback=lookback)\n",
    "X_train, X_valid, y_train, y_valid = train_test_split(\n",
    "    X_train,\n",
    "    y_train,\n",
    "    test_size=DATA_SPLIT_PCT,\n",
    "    random_state=SEED)\n",
    "\n",
    "TIMESTEPS = X_train.shape[1]  # equal to the lookback\n",
    "N_FEATURES = X_train.shape[2]  # the number of features"
   ]
  },
  {
   "cell_type": "code",
   "execution_count": 6,
   "metadata": {},
   "outputs": [],
   "source": [
    "# Initialize a scaler using the training data.\n",
    "scaler = StandardScaler().fit(flatten(X_train))\n",
    "X_train_scaled = scale(X_train, scaler)\n",
    "X_valid_scaled = scale(X_valid, scaler)\n",
    "X_test_scaled =  scale(X_test, scaler)"
   ]
  },
  {
   "cell_type": "markdown",
   "metadata": {},
   "source": [
    "# Modelo"
   ]
  },
  {
   "cell_type": "code",
   "execution_count": 7,
   "metadata": {},
   "outputs": [
    {
     "data": {
      "text/html": [
       "<pre style=\"white-space:pre;overflow-x:auto;line-height:normal;font-family:Menlo,'DejaVu Sans Mono',consolas,'Courier New',monospace\"><span style=\"font-weight: bold\">Model: \"sequential\"</span>\n",
       "</pre>\n"
      ],
      "text/plain": [
       "\u001b[1mModel: \"sequential\"\u001b[0m\n"
      ]
     },
     "metadata": {},
     "output_type": "display_data"
    },
    {
     "data": {
      "text/html": [
       "<pre style=\"white-space:pre;overflow-x:auto;line-height:normal;font-family:Menlo,'DejaVu Sans Mono',consolas,'Courier New',monospace\">┏━━━━━━━━━━━━━━━━━━━━━━━━━━━━━━━━━┳━━━━━━━━━━━━━━━━━━━━━━━━┳━━━━━━━━━━━━━━━┓\n",
       "┃<span style=\"font-weight: bold\"> Layer (type)                    </span>┃<span style=\"font-weight: bold\"> Output Shape           </span>┃<span style=\"font-weight: bold\">       Param # </span>┃\n",
       "┡━━━━━━━━━━━━━━━━━━━━━━━━━━━━━━━━━╇━━━━━━━━━━━━━━━━━━━━━━━━╇━━━━━━━━━━━━━━━┩\n",
       "│ lstm_layer_1 (<span style=\"color: #0087ff; text-decoration-color: #0087ff\">LSTM</span>)             │ (<span style=\"color: #00d7ff; text-decoration-color: #00d7ff\">None</span>, <span style=\"color: #00af00; text-decoration-color: #00af00\">5</span>, <span style=\"color: #00af00; text-decoration-color: #00af00\">16</span>)          │         <span style=\"color: #00af00; text-decoration-color: #00af00\">3,968</span> │\n",
       "├─────────────────────────────────┼────────────────────────┼───────────────┤\n",
       "│ lstm_layer_2 (<span style=\"color: #0087ff; text-decoration-color: #0087ff\">LSTM</span>)             │ (<span style=\"color: #00d7ff; text-decoration-color: #00d7ff\">None</span>, <span style=\"color: #00af00; text-decoration-color: #00af00\">8</span>)              │           <span style=\"color: #00af00; text-decoration-color: #00af00\">800</span> │\n",
       "├─────────────────────────────────┼────────────────────────┼───────────────┤\n",
       "│ output (<span style=\"color: #0087ff; text-decoration-color: #0087ff\">Dense</span>)                  │ (<span style=\"color: #00d7ff; text-decoration-color: #00d7ff\">None</span>, <span style=\"color: #00af00; text-decoration-color: #00af00\">1</span>)              │             <span style=\"color: #00af00; text-decoration-color: #00af00\">9</span> │\n",
       "└─────────────────────────────────┴────────────────────────┴───────────────┘\n",
       "</pre>\n"
      ],
      "text/plain": [
       "┏━━━━━━━━━━━━━━━━━━━━━━━━━━━━━━━━━┳━━━━━━━━━━━━━━━━━━━━━━━━┳━━━━━━━━━━━━━━━┓\n",
       "┃\u001b[1m \u001b[0m\u001b[1mLayer (type)                   \u001b[0m\u001b[1m \u001b[0m┃\u001b[1m \u001b[0m\u001b[1mOutput Shape          \u001b[0m\u001b[1m \u001b[0m┃\u001b[1m \u001b[0m\u001b[1m      Param #\u001b[0m\u001b[1m \u001b[0m┃\n",
       "┡━━━━━━━━━━━━━━━━━━━━━━━━━━━━━━━━━╇━━━━━━━━━━━━━━━━━━━━━━━━╇━━━━━━━━━━━━━━━┩\n",
       "│ lstm_layer_1 (\u001b[38;5;33mLSTM\u001b[0m)             │ (\u001b[38;5;45mNone\u001b[0m, \u001b[38;5;34m5\u001b[0m, \u001b[38;5;34m16\u001b[0m)          │         \u001b[38;5;34m3,968\u001b[0m │\n",
       "├─────────────────────────────────┼────────────────────────┼───────────────┤\n",
       "│ lstm_layer_2 (\u001b[38;5;33mLSTM\u001b[0m)             │ (\u001b[38;5;45mNone\u001b[0m, \u001b[38;5;34m8\u001b[0m)              │           \u001b[38;5;34m800\u001b[0m │\n",
       "├─────────────────────────────────┼────────────────────────┼───────────────┤\n",
       "│ output (\u001b[38;5;33mDense\u001b[0m)                  │ (\u001b[38;5;45mNone\u001b[0m, \u001b[38;5;34m1\u001b[0m)              │             \u001b[38;5;34m9\u001b[0m │\n",
       "└─────────────────────────────────┴────────────────────────┴───────────────┘\n"
      ]
     },
     "metadata": {},
     "output_type": "display_data"
    },
    {
     "data": {
      "text/html": [
       "<pre style=\"white-space:pre;overflow-x:auto;line-height:normal;font-family:Menlo,'DejaVu Sans Mono',consolas,'Courier New',monospace\"><span style=\"font-weight: bold\"> Total params: </span><span style=\"color: #00af00; text-decoration-color: #00af00\">4,777</span> (18.66 KB)\n",
       "</pre>\n"
      ],
      "text/plain": [
       "\u001b[1m Total params: \u001b[0m\u001b[38;5;34m4,777\u001b[0m (18.66 KB)\n"
      ]
     },
     "metadata": {},
     "output_type": "display_data"
    },
    {
     "data": {
      "text/html": [
       "<pre style=\"white-space:pre;overflow-x:auto;line-height:normal;font-family:Menlo,'DejaVu Sans Mono',consolas,'Courier New',monospace\"><span style=\"font-weight: bold\"> Trainable params: </span><span style=\"color: #00af00; text-decoration-color: #00af00\">4,777</span> (18.66 KB)\n",
       "</pre>\n"
      ],
      "text/plain": [
       "\u001b[1m Trainable params: \u001b[0m\u001b[38;5;34m4,777\u001b[0m (18.66 KB)\n"
      ]
     },
     "metadata": {},
     "output_type": "display_data"
    },
    {
     "data": {
      "text/html": [
       "<pre style=\"white-space:pre;overflow-x:auto;line-height:normal;font-family:Menlo,'DejaVu Sans Mono',consolas,'Courier New',monospace\"><span style=\"font-weight: bold\"> Non-trainable params: </span><span style=\"color: #00af00; text-decoration-color: #00af00\">0</span> (0.00 B)\n",
       "</pre>\n"
      ],
      "text/plain": [
       "\u001b[1m Non-trainable params: \u001b[0m\u001b[38;5;34m0\u001b[0m (0.00 B)\n"
      ]
     },
     "metadata": {},
     "output_type": "display_data"
    }
   ],
   "source": [
    "model = Sequential()\n",
    "model.add(Input(shape=(TIMESTEPS, N_FEATURES), \n",
    "                name='input'))\n",
    "model.add(\n",
    "    LSTM(units=16, \n",
    "         activation='tanh',\n",
    "         recurrent_activation='sigmoid',\n",
    "         return_sequences=True, \n",
    "         name='lstm_layer_1'))\n",
    "model.add(\n",
    "    LSTM(units=8, \n",
    "         activation='tanh', \n",
    "         recurrent_activation='sigmoid',\n",
    "         return_sequences=False, \n",
    "         name='lstm_layer_2'))\n",
    "model.add(Dense(units=1, \n",
    "                activation='linear', \n",
    "                name='output'))\n",
    "\n",
    "model.summary()"
   ]
  },
  {
   "cell_type": "code",
   "execution_count": 8,
   "metadata": {},
   "outputs": [],
   "source": [
    "model.compile(optimizer='adam',\n",
    "              loss='mse',\n",
    "              metrics=[\n",
    "                  tf.keras.metrics.RootMeanSquaredError()\n",
    "              ])"
   ]
  },
  {
   "cell_type": "code",
   "execution_count": 9,
   "metadata": {},
   "outputs": [
    {
     "name": "stdout",
     "output_type": "stream",
     "text": [
      "Epoch 1/100\n",
      "\u001b[1m767/767\u001b[0m \u001b[32m━━━━━━━━━━━━━━━━━━━━\u001b[0m\u001b[37m\u001b[0m \u001b[1m9s\u001b[0m 7ms/step - loss: 4.9952 - root_mean_squared_error: 2.1021 - val_loss: 0.4704 - val_root_mean_squared_error: 0.6858\n",
      "Epoch 2/100\n",
      "\u001b[1m767/767\u001b[0m \u001b[32m━━━━━━━━━━━━━━━━━━━━\u001b[0m\u001b[37m\u001b[0m \u001b[1m5s\u001b[0m 7ms/step - loss: 0.4356 - root_mean_squared_error: 0.6599 - val_loss: 0.3802 - val_root_mean_squared_error: 0.6166\n",
      "Epoch 3/100\n",
      "\u001b[1m767/767\u001b[0m \u001b[32m━━━━━━━━━━━━━━━━━━━━\u001b[0m\u001b[37m\u001b[0m \u001b[1m5s\u001b[0m 6ms/step - loss: 0.3712 - root_mean_squared_error: 0.6092 - val_loss: 0.3541 - val_root_mean_squared_error: 0.5951\n",
      "Epoch 4/100\n",
      "\u001b[1m767/767\u001b[0m \u001b[32m━━━━━━━━━━━━━━━━━━━━\u001b[0m\u001b[37m\u001b[0m \u001b[1m5s\u001b[0m 7ms/step - loss: 0.3491 - root_mean_squared_error: 0.5908 - val_loss: 0.3405 - val_root_mean_squared_error: 0.5835\n",
      "Epoch 5/100\n",
      "\u001b[1m767/767\u001b[0m \u001b[32m━━━━━━━━━━━━━━━━━━━━\u001b[0m\u001b[37m\u001b[0m \u001b[1m5s\u001b[0m 6ms/step - loss: 0.3360 - root_mean_squared_error: 0.5796 - val_loss: 0.3315 - val_root_mean_squared_error: 0.5758\n",
      "Epoch 6/100\n",
      "\u001b[1m767/767\u001b[0m \u001b[32m━━━━━━━━━━━━━━━━━━━━\u001b[0m\u001b[37m\u001b[0m \u001b[1m5s\u001b[0m 7ms/step - loss: 0.3315 - root_mean_squared_error: 0.5757 - val_loss: 0.3295 - val_root_mean_squared_error: 0.5740\n",
      "Epoch 7/100\n",
      "\u001b[1m767/767\u001b[0m \u001b[32m━━━━━━━━━━━━━━━━━━━━\u001b[0m\u001b[37m\u001b[0m \u001b[1m5s\u001b[0m 6ms/step - loss: 0.3226 - root_mean_squared_error: 0.5680 - val_loss: 0.3246 - val_root_mean_squared_error: 0.5697\n",
      "Epoch 8/100\n",
      "\u001b[1m767/767\u001b[0m \u001b[32m━━━━━━━━━━━━━━━━━━━━\u001b[0m\u001b[37m\u001b[0m \u001b[1m5s\u001b[0m 7ms/step - loss: 0.3198 - root_mean_squared_error: 0.5655 - val_loss: 0.3206 - val_root_mean_squared_error: 0.5662\n",
      "Epoch 9/100\n",
      "\u001b[1m767/767\u001b[0m \u001b[32m━━━━━━━━━━━━━━━━━━━━\u001b[0m\u001b[37m\u001b[0m \u001b[1m5s\u001b[0m 6ms/step - loss: 0.3161 - root_mean_squared_error: 0.5622 - val_loss: 0.3208 - val_root_mean_squared_error: 0.5664\n",
      "Epoch 10/100\n",
      "\u001b[1m767/767\u001b[0m \u001b[32m━━━━━━━━━━━━━━━━━━━━\u001b[0m\u001b[37m\u001b[0m \u001b[1m5s\u001b[0m 6ms/step - loss: 0.3146 - root_mean_squared_error: 0.5609 - val_loss: 0.3201 - val_root_mean_squared_error: 0.5658\n",
      "Epoch 11/100\n",
      "\u001b[1m767/767\u001b[0m \u001b[32m━━━━━━━━━━━━━━━━━━━━\u001b[0m\u001b[37m\u001b[0m \u001b[1m5s\u001b[0m 6ms/step - loss: 0.3145 - root_mean_squared_error: 0.5607 - val_loss: 0.3151 - val_root_mean_squared_error: 0.5613\n",
      "Epoch 12/100\n",
      "\u001b[1m767/767\u001b[0m \u001b[32m━━━━━━━━━━━━━━━━━━━━\u001b[0m\u001b[37m\u001b[0m \u001b[1m5s\u001b[0m 6ms/step - loss: 0.3082 - root_mean_squared_error: 0.5552 - val_loss: 0.3124 - val_root_mean_squared_error: 0.5589\n",
      "Epoch 13/100\n",
      "\u001b[1m767/767\u001b[0m \u001b[32m━━━━━━━━━━━━━━━━━━━━\u001b[0m\u001b[37m\u001b[0m \u001b[1m5s\u001b[0m 6ms/step - loss: 0.3087 - root_mean_squared_error: 0.5556 - val_loss: 0.3151 - val_root_mean_squared_error: 0.5613\n",
      "Epoch 14/100\n",
      "\u001b[1m767/767\u001b[0m \u001b[32m━━━━━━━━━━━━━━━━━━━━\u001b[0m\u001b[37m\u001b[0m \u001b[1m5s\u001b[0m 6ms/step - loss: 0.3042 - root_mean_squared_error: 0.5515 - val_loss: 0.3140 - val_root_mean_squared_error: 0.5603\n",
      "Epoch 15/100\n",
      "\u001b[1m767/767\u001b[0m \u001b[32m━━━━━━━━━━━━━━━━━━━━\u001b[0m\u001b[37m\u001b[0m \u001b[1m5s\u001b[0m 7ms/step - loss: 0.3023 - root_mean_squared_error: 0.5498 - val_loss: 0.3110 - val_root_mean_squared_error: 0.5577\n",
      "Epoch 16/100\n",
      "\u001b[1m767/767\u001b[0m \u001b[32m━━━━━━━━━━━━━━━━━━━━\u001b[0m\u001b[37m\u001b[0m \u001b[1m5s\u001b[0m 6ms/step - loss: 0.3033 - root_mean_squared_error: 0.5507 - val_loss: 0.3071 - val_root_mean_squared_error: 0.5541\n",
      "Epoch 17/100\n",
      "\u001b[1m767/767\u001b[0m \u001b[32m━━━━━━━━━━━━━━━━━━━━\u001b[0m\u001b[37m\u001b[0m \u001b[1m5s\u001b[0m 6ms/step - loss: 0.2982 - root_mean_squared_error: 0.5461 - val_loss: 0.3065 - val_root_mean_squared_error: 0.5536\n",
      "Epoch 18/100\n",
      "\u001b[1m767/767\u001b[0m \u001b[32m━━━━━━━━━━━━━━━━━━━━\u001b[0m\u001b[37m\u001b[0m \u001b[1m5s\u001b[0m 7ms/step - loss: 0.2964 - root_mean_squared_error: 0.5444 - val_loss: 0.3063 - val_root_mean_squared_error: 0.5534\n",
      "Epoch 19/100\n",
      "\u001b[1m767/767\u001b[0m \u001b[32m━━━━━━━━━━━━━━━━━━━━\u001b[0m\u001b[37m\u001b[0m \u001b[1m5s\u001b[0m 7ms/step - loss: 0.2991 - root_mean_squared_error: 0.5469 - val_loss: 0.3052 - val_root_mean_squared_error: 0.5524\n",
      "Epoch 20/100\n",
      "\u001b[1m767/767\u001b[0m \u001b[32m━━━━━━━━━━━━━━━━━━━━\u001b[0m\u001b[37m\u001b[0m \u001b[1m5s\u001b[0m 7ms/step - loss: 0.2946 - root_mean_squared_error: 0.5427 - val_loss: 0.3085 - val_root_mean_squared_error: 0.5554\n",
      "Epoch 21/100\n",
      "\u001b[1m767/767\u001b[0m \u001b[32m━━━━━━━━━━━━━━━━━━━━\u001b[0m\u001b[37m\u001b[0m \u001b[1m5s\u001b[0m 7ms/step - loss: 0.2964 - root_mean_squared_error: 0.5444 - val_loss: 0.3038 - val_root_mean_squared_error: 0.5512\n",
      "Epoch 22/100\n",
      "\u001b[1m767/767\u001b[0m \u001b[32m━━━━━━━━━━━━━━━━━━━━\u001b[0m\u001b[37m\u001b[0m \u001b[1m5s\u001b[0m 7ms/step - loss: 0.2908 - root_mean_squared_error: 0.5392 - val_loss: 0.3003 - val_root_mean_squared_error: 0.5480\n",
      "Epoch 23/100\n",
      "\u001b[1m767/767\u001b[0m \u001b[32m━━━━━━━━━━━━━━━━━━━━\u001b[0m\u001b[37m\u001b[0m \u001b[1m5s\u001b[0m 7ms/step - loss: 0.2937 - root_mean_squared_error: 0.5419 - val_loss: 0.3021 - val_root_mean_squared_error: 0.5497\n",
      "Epoch 24/100\n",
      "\u001b[1m767/767\u001b[0m \u001b[32m━━━━━━━━━━━━━━━━━━━━\u001b[0m\u001b[37m\u001b[0m \u001b[1m5s\u001b[0m 6ms/step - loss: 0.2902 - root_mean_squared_error: 0.5387 - val_loss: 0.3001 - val_root_mean_squared_error: 0.5479\n",
      "Epoch 25/100\n",
      "\u001b[1m767/767\u001b[0m \u001b[32m━━━━━━━━━━━━━━━━━━━━\u001b[0m\u001b[37m\u001b[0m \u001b[1m5s\u001b[0m 6ms/step - loss: 0.2878 - root_mean_squared_error: 0.5365 - val_loss: 0.3014 - val_root_mean_squared_error: 0.5490\n",
      "Epoch 26/100\n",
      "\u001b[1m767/767\u001b[0m \u001b[32m━━━━━━━━━━━━━━━━━━━━\u001b[0m\u001b[37m\u001b[0m \u001b[1m5s\u001b[0m 7ms/step - loss: 0.2864 - root_mean_squared_error: 0.5351 - val_loss: 0.3003 - val_root_mean_squared_error: 0.5480\n",
      "Epoch 27/100\n",
      "\u001b[1m767/767\u001b[0m \u001b[32m━━━━━━━━━━━━━━━━━━━━\u001b[0m\u001b[37m\u001b[0m \u001b[1m5s\u001b[0m 7ms/step - loss: 0.2874 - root_mean_squared_error: 0.5360 - val_loss: 0.2955 - val_root_mean_squared_error: 0.5436\n",
      "Epoch 28/100\n",
      "\u001b[1m767/767\u001b[0m \u001b[32m━━━━━━━━━━━━━━━━━━━━\u001b[0m\u001b[37m\u001b[0m \u001b[1m5s\u001b[0m 7ms/step - loss: 0.2831 - root_mean_squared_error: 0.5320 - val_loss: 0.3031 - val_root_mean_squared_error: 0.5506\n",
      "Epoch 29/100\n",
      "\u001b[1m767/767\u001b[0m \u001b[32m━━━━━━━━━━━━━━━━━━━━\u001b[0m\u001b[37m\u001b[0m \u001b[1m5s\u001b[0m 7ms/step - loss: 0.2827 - root_mean_squared_error: 0.5317 - val_loss: 0.2945 - val_root_mean_squared_error: 0.5427\n",
      "Epoch 30/100\n",
      "\u001b[1m767/767\u001b[0m \u001b[32m━━━━━━━━━━━━━━━━━━━━\u001b[0m\u001b[37m\u001b[0m \u001b[1m5s\u001b[0m 7ms/step - loss: 0.2815 - root_mean_squared_error: 0.5305 - val_loss: 0.2985 - val_root_mean_squared_error: 0.5463\n",
      "Epoch 31/100\n",
      "\u001b[1m767/767\u001b[0m \u001b[32m━━━━━━━━━━━━━━━━━━━━\u001b[0m\u001b[37m\u001b[0m \u001b[1m5s\u001b[0m 7ms/step - loss: 0.2809 - root_mean_squared_error: 0.5300 - val_loss: 0.2932 - val_root_mean_squared_error: 0.5415\n",
      "Epoch 32/100\n",
      "\u001b[1m767/767\u001b[0m \u001b[32m━━━━━━━━━━━━━━━━━━━━\u001b[0m\u001b[37m\u001b[0m \u001b[1m5s\u001b[0m 7ms/step - loss: 0.2798 - root_mean_squared_error: 0.5290 - val_loss: 0.2938 - val_root_mean_squared_error: 0.5420\n",
      "Epoch 33/100\n",
      "\u001b[1m767/767\u001b[0m \u001b[32m━━━━━━━━━━━━━━━━━━━━\u001b[0m\u001b[37m\u001b[0m \u001b[1m5s\u001b[0m 7ms/step - loss: 0.2800 - root_mean_squared_error: 0.5291 - val_loss: 0.2945 - val_root_mean_squared_error: 0.5426\n",
      "Epoch 34/100\n",
      "\u001b[1m767/767\u001b[0m \u001b[32m━━━━━━━━━━━━━━━━━━━━\u001b[0m\u001b[37m\u001b[0m \u001b[1m5s\u001b[0m 7ms/step - loss: 0.2796 - root_mean_squared_error: 0.5287 - val_loss: 0.2946 - val_root_mean_squared_error: 0.5428\n",
      "Epoch 35/100\n",
      "\u001b[1m767/767\u001b[0m \u001b[32m━━━━━━━━━━━━━━━━━━━━\u001b[0m\u001b[37m\u001b[0m \u001b[1m5s\u001b[0m 7ms/step - loss: 0.2797 - root_mean_squared_error: 0.5289 - val_loss: 0.3023 - val_root_mean_squared_error: 0.5498\n",
      "Epoch 36/100\n",
      "\u001b[1m767/767\u001b[0m \u001b[32m━━━━━━━━━━━━━━━━━━━━\u001b[0m\u001b[37m\u001b[0m \u001b[1m5s\u001b[0m 6ms/step - loss: 0.2793 - root_mean_squared_error: 0.5284 - val_loss: 0.2911 - val_root_mean_squared_error: 0.5396\n",
      "Epoch 37/100\n",
      "\u001b[1m767/767\u001b[0m \u001b[32m━━━━━━━━━━━━━━━━━━━━\u001b[0m\u001b[37m\u001b[0m \u001b[1m5s\u001b[0m 7ms/step - loss: 0.2762 - root_mean_squared_error: 0.5255 - val_loss: 0.2910 - val_root_mean_squared_error: 0.5395\n",
      "Epoch 38/100\n",
      "\u001b[1m767/767\u001b[0m \u001b[32m━━━━━━━━━━━━━━━━━━━━\u001b[0m\u001b[37m\u001b[0m \u001b[1m5s\u001b[0m 7ms/step - loss: 0.2731 - root_mean_squared_error: 0.5225 - val_loss: 0.2957 - val_root_mean_squared_error: 0.5437\n",
      "Epoch 39/100\n",
      "\u001b[1m767/767\u001b[0m \u001b[32m━━━━━━━━━━━━━━━━━━━━\u001b[0m\u001b[37m\u001b[0m \u001b[1m5s\u001b[0m 7ms/step - loss: 0.2773 - root_mean_squared_error: 0.5266 - val_loss: 0.2919 - val_root_mean_squared_error: 0.5403\n",
      "Epoch 40/100\n",
      "\u001b[1m767/767\u001b[0m \u001b[32m━━━━━━━━━━━━━━━━━━━━\u001b[0m\u001b[37m\u001b[0m \u001b[1m5s\u001b[0m 7ms/step - loss: 0.2737 - root_mean_squared_error: 0.5232 - val_loss: 0.2906 - val_root_mean_squared_error: 0.5391\n",
      "Epoch 41/100\n",
      "\u001b[1m767/767\u001b[0m \u001b[32m━━━━━━━━━━━━━━━━━━━━\u001b[0m\u001b[37m\u001b[0m \u001b[1m5s\u001b[0m 7ms/step - loss: 0.2739 - root_mean_squared_error: 0.5233 - val_loss: 0.2932 - val_root_mean_squared_error: 0.5415\n",
      "Epoch 42/100\n",
      "\u001b[1m767/767\u001b[0m \u001b[32m━━━━━━━━━━━━━━━━━━━━\u001b[0m\u001b[37m\u001b[0m \u001b[1m5s\u001b[0m 6ms/step - loss: 0.2700 - root_mean_squared_error: 0.5196 - val_loss: 0.2945 - val_root_mean_squared_error: 0.5427\n",
      "Epoch 43/100\n",
      "\u001b[1m767/767\u001b[0m \u001b[32m━━━━━━━━━━━━━━━━━━━━\u001b[0m\u001b[37m\u001b[0m \u001b[1m5s\u001b[0m 7ms/step - loss: 0.2707 - root_mean_squared_error: 0.5203 - val_loss: 0.2890 - val_root_mean_squared_error: 0.5376\n",
      "Epoch 44/100\n",
      "\u001b[1m767/767\u001b[0m \u001b[32m━━━━━━━━━━━━━━━━━━━━\u001b[0m\u001b[37m\u001b[0m \u001b[1m5s\u001b[0m 7ms/step - loss: 0.2726 - root_mean_squared_error: 0.5221 - val_loss: 0.2894 - val_root_mean_squared_error: 0.5380\n",
      "Epoch 45/100\n",
      "\u001b[1m767/767\u001b[0m \u001b[32m━━━━━━━━━━━━━━━━━━━━\u001b[0m\u001b[37m\u001b[0m \u001b[1m5s\u001b[0m 7ms/step - loss: 0.2695 - root_mean_squared_error: 0.5191 - val_loss: 0.2887 - val_root_mean_squared_error: 0.5373\n",
      "Epoch 46/100\n",
      "\u001b[1m767/767\u001b[0m \u001b[32m━━━━━━━━━━━━━━━━━━━━\u001b[0m\u001b[37m\u001b[0m \u001b[1m5s\u001b[0m 7ms/step - loss: 0.2691 - root_mean_squared_error: 0.5187 - val_loss: 0.2935 - val_root_mean_squared_error: 0.5417\n",
      "Epoch 47/100\n",
      "\u001b[1m767/767\u001b[0m \u001b[32m━━━━━━━━━━━━━━━━━━━━\u001b[0m\u001b[37m\u001b[0m \u001b[1m5s\u001b[0m 7ms/step - loss: 0.2707 - root_mean_squared_error: 0.5203 - val_loss: 0.2867 - val_root_mean_squared_error: 0.5354\n",
      "Epoch 48/100\n",
      "\u001b[1m767/767\u001b[0m \u001b[32m━━━━━━━━━━━━━━━━━━━━\u001b[0m\u001b[37m\u001b[0m \u001b[1m5s\u001b[0m 7ms/step - loss: 0.2715 - root_mean_squared_error: 0.5211 - val_loss: 0.2882 - val_root_mean_squared_error: 0.5369\n",
      "Epoch 49/100\n",
      "\u001b[1m767/767\u001b[0m \u001b[32m━━━━━━━━━━━━━━━━━━━━\u001b[0m\u001b[37m\u001b[0m \u001b[1m5s\u001b[0m 7ms/step - loss: 0.2665 - root_mean_squared_error: 0.5162 - val_loss: 0.2890 - val_root_mean_squared_error: 0.5376\n",
      "Epoch 50/100\n",
      "\u001b[1m767/767\u001b[0m \u001b[32m━━━━━━━━━━━━━━━━━━━━\u001b[0m\u001b[37m\u001b[0m \u001b[1m5s\u001b[0m 6ms/step - loss: 0.2663 - root_mean_squared_error: 0.5160 - val_loss: 0.2878 - val_root_mean_squared_error: 0.5365\n",
      "Epoch 51/100\n",
      "\u001b[1m767/767\u001b[0m \u001b[32m━━━━━━━━━━━━━━━━━━━━\u001b[0m\u001b[37m\u001b[0m \u001b[1m5s\u001b[0m 7ms/step - loss: 0.2676 - root_mean_squared_error: 0.5173 - val_loss: 0.2897 - val_root_mean_squared_error: 0.5383\n",
      "Epoch 52/100\n",
      "\u001b[1m767/767\u001b[0m \u001b[32m━━━━━━━━━━━━━━━━━━━━\u001b[0m\u001b[37m\u001b[0m \u001b[1m5s\u001b[0m 7ms/step - loss: 0.2660 - root_mean_squared_error: 0.5158 - val_loss: 0.2875 - val_root_mean_squared_error: 0.5362\n",
      "Epoch 53/100\n",
      "\u001b[1m767/767\u001b[0m \u001b[32m━━━━━━━━━━━━━━━━━━━━\u001b[0m\u001b[37m\u001b[0m \u001b[1m5s\u001b[0m 7ms/step - loss: 0.2687 - root_mean_squared_error: 0.5183 - val_loss: 0.2861 - val_root_mean_squared_error: 0.5349\n",
      "Epoch 54/100\n",
      "\u001b[1m767/767\u001b[0m \u001b[32m━━━━━━━━━━━━━━━━━━━━\u001b[0m\u001b[37m\u001b[0m \u001b[1m5s\u001b[0m 7ms/step - loss: 0.2656 - root_mean_squared_error: 0.5153 - val_loss: 0.2860 - val_root_mean_squared_error: 0.5348\n",
      "Epoch 55/100\n",
      "\u001b[1m767/767\u001b[0m \u001b[32m━━━━━━━━━━━━━━━━━━━━\u001b[0m\u001b[37m\u001b[0m \u001b[1m5s\u001b[0m 7ms/step - loss: 0.2644 - root_mean_squared_error: 0.5142 - val_loss: 0.2861 - val_root_mean_squared_error: 0.5349\n",
      "Epoch 56/100\n",
      "\u001b[1m767/767\u001b[0m \u001b[32m━━━━━━━━━━━━━━━━━━━━\u001b[0m\u001b[37m\u001b[0m \u001b[1m5s\u001b[0m 7ms/step - loss: 0.2616 - root_mean_squared_error: 0.5114 - val_loss: 0.2861 - val_root_mean_squared_error: 0.5349\n",
      "Epoch 57/100\n",
      "\u001b[1m767/767\u001b[0m \u001b[32m━━━━━━━━━━━━━━━━━━━━\u001b[0m\u001b[37m\u001b[0m \u001b[1m5s\u001b[0m 7ms/step - loss: 0.2642 - root_mean_squared_error: 0.5140 - val_loss: 0.2860 - val_root_mean_squared_error: 0.5348\n",
      "Epoch 58/100\n",
      "\u001b[1m767/767\u001b[0m \u001b[32m━━━━━━━━━━━━━━━━━━━━\u001b[0m\u001b[37m\u001b[0m \u001b[1m5s\u001b[0m 7ms/step - loss: 0.2618 - root_mean_squared_error: 0.5116 - val_loss: 0.2852 - val_root_mean_squared_error: 0.5341\n",
      "Epoch 59/100\n",
      "\u001b[1m767/767\u001b[0m \u001b[32m━━━━━━━━━━━━━━━━━━━━\u001b[0m\u001b[37m\u001b[0m \u001b[1m5s\u001b[0m 7ms/step - loss: 0.2648 - root_mean_squared_error: 0.5145 - val_loss: 0.2840 - val_root_mean_squared_error: 0.5329\n",
      "Epoch 60/100\n",
      "\u001b[1m767/767\u001b[0m \u001b[32m━━━━━━━━━━━━━━━━━━━━\u001b[0m\u001b[37m\u001b[0m \u001b[1m5s\u001b[0m 7ms/step - loss: 0.2621 - root_mean_squared_error: 0.5120 - val_loss: 0.2856 - val_root_mean_squared_error: 0.5344\n",
      "Epoch 61/100\n",
      "\u001b[1m767/767\u001b[0m \u001b[32m━━━━━━━━━━━━━━━━━━━━\u001b[0m\u001b[37m\u001b[0m \u001b[1m5s\u001b[0m 7ms/step - loss: 0.2656 - root_mean_squared_error: 0.5153 - val_loss: 0.2835 - val_root_mean_squared_error: 0.5324\n",
      "Epoch 62/100\n",
      "\u001b[1m767/767\u001b[0m \u001b[32m━━━━━━━━━━━━━━━━━━━━\u001b[0m\u001b[37m\u001b[0m \u001b[1m5s\u001b[0m 7ms/step - loss: 0.2621 - root_mean_squared_error: 0.5120 - val_loss: 0.2816 - val_root_mean_squared_error: 0.5307\n",
      "Epoch 63/100\n",
      "\u001b[1m767/767\u001b[0m \u001b[32m━━━━━━━━━━━━━━━━━━━━\u001b[0m\u001b[37m\u001b[0m \u001b[1m5s\u001b[0m 7ms/step - loss: 0.2629 - root_mean_squared_error: 0.5127 - val_loss: 0.2824 - val_root_mean_squared_error: 0.5314\n",
      "Epoch 64/100\n",
      "\u001b[1m767/767\u001b[0m \u001b[32m━━━━━━━━━━━━━━━━━━━━\u001b[0m\u001b[37m\u001b[0m \u001b[1m5s\u001b[0m 7ms/step - loss: 0.2599 - root_mean_squared_error: 0.5098 - val_loss: 0.2829 - val_root_mean_squared_error: 0.5318\n",
      "Epoch 65/100\n",
      "\u001b[1m767/767\u001b[0m \u001b[32m━━━━━━━━━━━━━━━━━━━━\u001b[0m\u001b[37m\u001b[0m \u001b[1m5s\u001b[0m 7ms/step - loss: 0.2607 - root_mean_squared_error: 0.5106 - val_loss: 0.2872 - val_root_mean_squared_error: 0.5359\n",
      "Epoch 66/100\n",
      "\u001b[1m767/767\u001b[0m \u001b[32m━━━━━━━━━━━━━━━━━━━━\u001b[0m\u001b[37m\u001b[0m \u001b[1m5s\u001b[0m 7ms/step - loss: 0.2596 - root_mean_squared_error: 0.5095 - val_loss: 0.2824 - val_root_mean_squared_error: 0.5314\n",
      "Epoch 67/100\n",
      "\u001b[1m767/767\u001b[0m \u001b[32m━━━━━━━━━━━━━━━━━━━━\u001b[0m\u001b[37m\u001b[0m \u001b[1m5s\u001b[0m 7ms/step - loss: 0.2602 - root_mean_squared_error: 0.5101 - val_loss: 0.2837 - val_root_mean_squared_error: 0.5326\n",
      "Epoch 68/100\n",
      "\u001b[1m767/767\u001b[0m \u001b[32m━━━━━━━━━━━━━━━━━━━━\u001b[0m\u001b[37m\u001b[0m \u001b[1m5s\u001b[0m 7ms/step - loss: 0.2590 - root_mean_squared_error: 0.5089 - val_loss: 0.2825 - val_root_mean_squared_error: 0.5315\n",
      "Epoch 69/100\n",
      "\u001b[1m767/767\u001b[0m \u001b[32m━━━━━━━━━━━━━━━━━━━━\u001b[0m\u001b[37m\u001b[0m \u001b[1m5s\u001b[0m 7ms/step - loss: 0.2568 - root_mean_squared_error: 0.5067 - val_loss: 0.2804 - val_root_mean_squared_error: 0.5295\n",
      "Epoch 70/100\n",
      "\u001b[1m767/767\u001b[0m \u001b[32m━━━━━━━━━━━━━━━━━━━━\u001b[0m\u001b[37m\u001b[0m \u001b[1m5s\u001b[0m 7ms/step - loss: 0.2584 - root_mean_squared_error: 0.5083 - val_loss: 0.2830 - val_root_mean_squared_error: 0.5320\n",
      "Epoch 71/100\n",
      "\u001b[1m767/767\u001b[0m \u001b[32m━━━━━━━━━━━━━━━━━━━━\u001b[0m\u001b[37m\u001b[0m \u001b[1m5s\u001b[0m 7ms/step - loss: 0.2560 - root_mean_squared_error: 0.5059 - val_loss: 0.2787 - val_root_mean_squared_error: 0.5280\n",
      "Epoch 72/100\n",
      "\u001b[1m767/767\u001b[0m \u001b[32m━━━━━━━━━━━━━━━━━━━━\u001b[0m\u001b[37m\u001b[0m \u001b[1m5s\u001b[0m 7ms/step - loss: 0.2597 - root_mean_squared_error: 0.5096 - val_loss: 0.2809 - val_root_mean_squared_error: 0.5300\n",
      "Epoch 73/100\n",
      "\u001b[1m767/767\u001b[0m \u001b[32m━━━━━━━━━━━━━━━━━━━━\u001b[0m\u001b[37m\u001b[0m \u001b[1m5s\u001b[0m 7ms/step - loss: 0.2519 - root_mean_squared_error: 0.5018 - val_loss: 0.2805 - val_root_mean_squared_error: 0.5296\n",
      "Epoch 74/100\n",
      "\u001b[1m767/767\u001b[0m \u001b[32m━━━━━━━━━━━━━━━━━━━━\u001b[0m\u001b[37m\u001b[0m \u001b[1m5s\u001b[0m 7ms/step - loss: 0.2561 - root_mean_squared_error: 0.5060 - val_loss: 0.2804 - val_root_mean_squared_error: 0.5295\n",
      "Epoch 75/100\n",
      "\u001b[1m767/767\u001b[0m \u001b[32m━━━━━━━━━━━━━━━━━━━━\u001b[0m\u001b[37m\u001b[0m \u001b[1m5s\u001b[0m 7ms/step - loss: 0.2528 - root_mean_squared_error: 0.5028 - val_loss: 0.2809 - val_root_mean_squared_error: 0.5300\n",
      "Epoch 76/100\n",
      "\u001b[1m767/767\u001b[0m \u001b[32m━━━━━━━━━━━━━━━━━━━━\u001b[0m\u001b[37m\u001b[0m \u001b[1m5s\u001b[0m 7ms/step - loss: 0.2534 - root_mean_squared_error: 0.5034 - val_loss: 0.2805 - val_root_mean_squared_error: 0.5296\n",
      "Epoch 77/100\n",
      "\u001b[1m767/767\u001b[0m \u001b[32m━━━━━━━━━━━━━━━━━━━━\u001b[0m\u001b[37m\u001b[0m \u001b[1m5s\u001b[0m 7ms/step - loss: 0.2526 - root_mean_squared_error: 0.5025 - val_loss: 0.2798 - val_root_mean_squared_error: 0.5289\n",
      "Epoch 78/100\n",
      "\u001b[1m767/767\u001b[0m \u001b[32m━━━━━━━━━━━━━━━━━━━━\u001b[0m\u001b[37m\u001b[0m \u001b[1m5s\u001b[0m 7ms/step - loss: 0.2534 - root_mean_squared_error: 0.5033 - val_loss: 0.2800 - val_root_mean_squared_error: 0.5291\n",
      "Epoch 79/100\n",
      "\u001b[1m767/767\u001b[0m \u001b[32m━━━━━━━━━━━━━━━━━━━━\u001b[0m\u001b[37m\u001b[0m \u001b[1m5s\u001b[0m 7ms/step - loss: 0.2542 - root_mean_squared_error: 0.5042 - val_loss: 0.2785 - val_root_mean_squared_error: 0.5277\n",
      "Epoch 80/100\n",
      "\u001b[1m767/767\u001b[0m \u001b[32m━━━━━━━━━━━━━━━━━━━━\u001b[0m\u001b[37m\u001b[0m \u001b[1m5s\u001b[0m 7ms/step - loss: 0.2549 - root_mean_squared_error: 0.5048 - val_loss: 0.2784 - val_root_mean_squared_error: 0.5276\n",
      "Epoch 81/100\n",
      "\u001b[1m767/767\u001b[0m \u001b[32m━━━━━━━━━━━━━━━━━━━━\u001b[0m\u001b[37m\u001b[0m \u001b[1m5s\u001b[0m 7ms/step - loss: 0.2519 - root_mean_squared_error: 0.5019 - val_loss: 0.2816 - val_root_mean_squared_error: 0.5307\n",
      "Epoch 82/100\n",
      "\u001b[1m767/767\u001b[0m \u001b[32m━━━━━━━━━━━━━━━━━━━━\u001b[0m\u001b[37m\u001b[0m \u001b[1m5s\u001b[0m 7ms/step - loss: 0.2543 - root_mean_squared_error: 0.5043 - val_loss: 0.2815 - val_root_mean_squared_error: 0.5306\n",
      "Epoch 83/100\n",
      "\u001b[1m767/767\u001b[0m \u001b[32m━━━━━━━━━━━━━━━━━━━━\u001b[0m\u001b[37m\u001b[0m \u001b[1m5s\u001b[0m 7ms/step - loss: 0.2507 - root_mean_squared_error: 0.5007 - val_loss: 0.2785 - val_root_mean_squared_error: 0.5278\n",
      "Epoch 84/100\n",
      "\u001b[1m767/767\u001b[0m \u001b[32m━━━━━━━━━━━━━━━━━━━━\u001b[0m\u001b[37m\u001b[0m \u001b[1m5s\u001b[0m 7ms/step - loss: 0.2519 - root_mean_squared_error: 0.5019 - val_loss: 0.2772 - val_root_mean_squared_error: 0.5265\n",
      "Epoch 85/100\n",
      "\u001b[1m767/767\u001b[0m \u001b[32m━━━━━━━━━━━━━━━━━━━━\u001b[0m\u001b[37m\u001b[0m \u001b[1m5s\u001b[0m 7ms/step - loss: 0.2500 - root_mean_squared_error: 0.5000 - val_loss: 0.2789 - val_root_mean_squared_error: 0.5281\n",
      "Epoch 86/100\n",
      "\u001b[1m767/767\u001b[0m \u001b[32m━━━━━━━━━━━━━━━━━━━━\u001b[0m\u001b[37m\u001b[0m \u001b[1m5s\u001b[0m 7ms/step - loss: 0.2511 - root_mean_squared_error: 0.5011 - val_loss: 0.2806 - val_root_mean_squared_error: 0.5297\n",
      "Epoch 87/100\n",
      "\u001b[1m767/767\u001b[0m \u001b[32m━━━━━━━━━━━━━━━━━━━━\u001b[0m\u001b[37m\u001b[0m \u001b[1m5s\u001b[0m 6ms/step - loss: 0.2507 - root_mean_squared_error: 0.5006 - val_loss: 0.2776 - val_root_mean_squared_error: 0.5269\n",
      "Epoch 88/100\n",
      "\u001b[1m767/767\u001b[0m \u001b[32m━━━━━━━━━━━━━━━━━━━━\u001b[0m\u001b[37m\u001b[0m \u001b[1m3s\u001b[0m 4ms/step - loss: 0.2498 - root_mean_squared_error: 0.4997 - val_loss: 0.2781 - val_root_mean_squared_error: 0.5273\n",
      "Epoch 89/100\n",
      "\u001b[1m767/767\u001b[0m \u001b[32m━━━━━━━━━━━━━━━━━━━━\u001b[0m\u001b[37m\u001b[0m \u001b[1m4s\u001b[0m 6ms/step - loss: 0.2521 - root_mean_squared_error: 0.5021 - val_loss: 0.2766 - val_root_mean_squared_error: 0.5259\n",
      "Epoch 90/100\n",
      "\u001b[1m767/767\u001b[0m \u001b[32m━━━━━━━━━━━━━━━━━━━━\u001b[0m\u001b[37m\u001b[0m \u001b[1m5s\u001b[0m 7ms/step - loss: 0.2487 - root_mean_squared_error: 0.4987 - val_loss: 0.2778 - val_root_mean_squared_error: 0.5271\n",
      "Epoch 91/100\n",
      "\u001b[1m767/767\u001b[0m \u001b[32m━━━━━━━━━━━━━━━━━━━━\u001b[0m\u001b[37m\u001b[0m \u001b[1m5s\u001b[0m 7ms/step - loss: 0.2483 - root_mean_squared_error: 0.4983 - val_loss: 0.2792 - val_root_mean_squared_error: 0.5284\n",
      "Epoch 92/100\n",
      "\u001b[1m767/767\u001b[0m \u001b[32m━━━━━━━━━━━━━━━━━━━━\u001b[0m\u001b[37m\u001b[0m \u001b[1m5s\u001b[0m 7ms/step - loss: 0.2504 - root_mean_squared_error: 0.5004 - val_loss: 0.2778 - val_root_mean_squared_error: 0.5271\n",
      "Epoch 93/100\n",
      "\u001b[1m767/767\u001b[0m \u001b[32m━━━━━━━━━━━━━━━━━━━━\u001b[0m\u001b[37m\u001b[0m \u001b[1m5s\u001b[0m 7ms/step - loss: 0.2506 - root_mean_squared_error: 0.5006 - val_loss: 0.2769 - val_root_mean_squared_error: 0.5263\n",
      "Epoch 94/100\n",
      "\u001b[1m767/767\u001b[0m \u001b[32m━━━━━━━━━━━━━━━━━━━━\u001b[0m\u001b[37m\u001b[0m \u001b[1m5s\u001b[0m 7ms/step - loss: 0.2478 - root_mean_squared_error: 0.4978 - val_loss: 0.2760 - val_root_mean_squared_error: 0.5253\n",
      "Epoch 95/100\n",
      "\u001b[1m767/767\u001b[0m \u001b[32m━━━━━━━━━━━━━━━━━━━━\u001b[0m\u001b[37m\u001b[0m \u001b[1m5s\u001b[0m 7ms/step - loss: 0.2487 - root_mean_squared_error: 0.4987 - val_loss: 0.2764 - val_root_mean_squared_error: 0.5257\n",
      "Epoch 96/100\n",
      "\u001b[1m767/767\u001b[0m \u001b[32m━━━━━━━━━━━━━━━━━━━━\u001b[0m\u001b[37m\u001b[0m \u001b[1m5s\u001b[0m 7ms/step - loss: 0.2475 - root_mean_squared_error: 0.4975 - val_loss: 0.2763 - val_root_mean_squared_error: 0.5257\n",
      "Epoch 97/100\n",
      "\u001b[1m767/767\u001b[0m \u001b[32m━━━━━━━━━━━━━━━━━━━━\u001b[0m\u001b[37m\u001b[0m \u001b[1m5s\u001b[0m 7ms/step - loss: 0.2477 - root_mean_squared_error: 0.4977 - val_loss: 0.2758 - val_root_mean_squared_error: 0.5251\n",
      "Epoch 98/100\n",
      "\u001b[1m767/767\u001b[0m \u001b[32m━━━━━━━━━━━━━━━━━━━━\u001b[0m\u001b[37m\u001b[0m \u001b[1m5s\u001b[0m 7ms/step - loss: 0.2501 - root_mean_squared_error: 0.5000 - val_loss: 0.2766 - val_root_mean_squared_error: 0.5259\n",
      "Epoch 99/100\n",
      "\u001b[1m767/767\u001b[0m \u001b[32m━━━━━━━━━━━━━━━━━━━━\u001b[0m\u001b[37m\u001b[0m \u001b[1m5s\u001b[0m 7ms/step - loss: 0.2481 - root_mean_squared_error: 0.4981 - val_loss: 0.2754 - val_root_mean_squared_error: 0.5248\n",
      "Epoch 100/100\n",
      "\u001b[1m767/767\u001b[0m \u001b[32m━━━━━━━━━━━━━━━━━━━━\u001b[0m\u001b[37m\u001b[0m \u001b[1m5s\u001b[0m 7ms/step - loss: 0.2456 - root_mean_squared_error: 0.4956 - val_loss: 0.2769 - val_root_mean_squared_error: 0.5262\n"
     ]
    }
   ],
   "source": [
    "history = model.fit(x= np.asarray(X_train_scaled).astype('float32'),\n",
    "                    y=y_train,\n",
    "                    batch_size=128,\n",
    "                    epochs=100,\n",
    "                    validation_data=(np.asarray(X_valid_scaled).astype('float32'), \n",
    "                                     y_valid),\n",
    "                    verbose=1).history"
   ]
  },
  {
   "cell_type": "code",
   "execution_count": 10,
   "metadata": {},
   "outputs": [
    {
     "name": "stdout",
     "output_type": "stream",
     "text": [
      "\u001b[1m273/273\u001b[0m \u001b[32m━━━━━━━━━━━━━━━━━━━━\u001b[0m\u001b[37m\u001b[0m \u001b[1m1s\u001b[0m 3ms/step\n"
     ]
    }
   ],
   "source": [
    "p = model.predict(np.asarray(X_test_scaled).astype('float32'))\n",
    "res = pd.DataFrame(p)\n",
    "res.to_csv(\"lstm_output.csv\", index=False)"
   ]
  }
 ],
 "metadata": {
  "kernelspec": {
   "display_name": "base",
   "language": "python",
   "name": "python3"
  },
  "language_info": {
   "codemirror_mode": {
    "name": "ipython",
    "version": 3
   },
   "file_extension": ".py",
   "mimetype": "text/x-python",
   "name": "python",
   "nbconvert_exporter": "python",
   "pygments_lexer": "ipython3",
   "version": "3.11.5"
  }
 },
 "nbformat": 4,
 "nbformat_minor": 2
}
