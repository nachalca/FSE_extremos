{
 "cells": [
  {
   "cell_type": "code",
   "execution_count": 9,
   "metadata": {},
   "outputs": [],
   "source": [
    "import numpy as np                       \n",
    "from matplotlib import pyplot as plt     \n",
    "import xarray as xr                      \n",
    "import pandas as pd     \n",
    "import cftime                  \n",
    "from datetime import datetime\n",
    "from sklearn.metrics import mean_squared_error, mean_absolute_percentage_error\n",
    "import os"
   ]
  },
  {
   "cell_type": "code",
   "execution_count": 2,
   "metadata": {},
   "outputs": [],
   "source": [
    "reanalysis_nc = xr.open_dataset('../Archivos_reanalisisERA5_realesINUMET/Reanalisis/Datos_t2m_horario_2000a2010_uy.nc')\n",
    "reanalysis_nc_2 = xr.open_dataset('../Archivos_reanalisisERA5_realesINUMET/Reanalisis/Datos_t2m_horario_2011a2021_uy.nc')\n",
    "\n",
    "def transform_reanalysis(data_nc):\n",
    "    reanalysis = pd.DataFrame()\n",
    "    reanalysis['time'] = pd.to_datetime(data_nc.time)\n",
    "    reanalysis['temp'] = data_nc.t2m.mean(dim=[\"latitude\",\"longitude\"]) #lon: (-58,-53), lat: (-30,-35)\n",
    "    reanalysis = reanalysis.loc[reanalysis[\"time\"] < datetime.fromisoformat('2015-01-01T00:00:00')]\n",
    "    reanalysis['time'] = reanalysis['time'].dt.date\n",
    "    reanalysis['time'] = reanalysis['time'].apply(lambda x: str(x))\n",
    "    reanalysis = reanalysis.groupby('time').mean()\n",
    "    return reanalysis\n",
    "\n",
    "reanalysis = pd.concat([transform_reanalysis(reanalysis_nc), transform_reanalysis(reanalysis_nc_2)])"
   ]
  },
  {
   "cell_type": "markdown",
   "metadata": {},
   "source": [
    "## CESM2"
   ]
  },
  {
   "cell_type": "code",
   "execution_count": 3,
   "metadata": {},
   "outputs": [],
   "source": [
    "CESM2_nc = xr.open_dataset('../data/tas_day_CESM2_historical_r1i1p1f1_gn_20000101-20141231_v20190308.nc')\n",
    "CESM2 = pd.DataFrame()\n",
    "CESM2['time'] = CESM2_nc.time\n",
    "CESM2['CESM2'] = CESM2_nc.tas.mean(dim=[\"lat\",\"lon\"])\n",
    "CESM2['time'] = CESM2['time'].apply(lambda x: str(datetime.fromisoformat(x.isoformat()).date()))\n",
    "CESM2 = CESM2.set_index('time')"
   ]
  },
  {
   "cell_type": "markdown",
   "metadata": {},
   "source": [
    "## CESM2_WACCM"
   ]
  },
  {
   "cell_type": "code",
   "execution_count": 4,
   "metadata": {},
   "outputs": [],
   "source": [
    "CESM2_WACCM_nc = xr.open_dataset('../data/tas_day_CESM2-WACCM_historical_r1i1p1f1_gn_20000101-20141231_v20190227.nc')\n",
    "CESM2_WACCM = pd.DataFrame()\n",
    "CESM2_WACCM['time'] = CESM2_WACCM_nc.time\n",
    "CESM2_WACCM['CESM2_WACCM'] = CESM2_WACCM_nc.tas.mean(dim=[\"lat\",\"lon\"])\n",
    "CESM2_WACCM['time'] = CESM2_WACCM['time'].apply(lambda x: str(datetime.fromisoformat(x.isoformat()).date()))\n",
    "CESM2_WACCM = CESM2_WACCM.set_index('time')"
   ]
  },
  {
   "cell_type": "markdown",
   "metadata": {},
   "source": [
    "## CNRM_CM6_1"
   ]
  },
  {
   "cell_type": "code",
   "execution_count": 5,
   "metadata": {},
   "outputs": [],
   "source": [
    "CNRM_CM6_1_nc = xr.open_dataset('../data/tas_day_CNRM-CM6-1-HR_historical_r1i1p1f2_gr_20000101-20141231_v20191021.nc')\n",
    "CNRM_CM6_1 = pd.DataFrame()\n",
    "CNRM_CM6_1['time'] = CNRM_CM6_1_nc.time\n",
    "CNRM_CM6_1['CNRM_CM6_1'] = CNRM_CM6_1_nc.tas.mean(dim=[\"lat\",\"lon\"])\n",
    "CNRM_CM6_1['time'] = CNRM_CM6_1['time'].apply(lambda x: str(x.date()))\n",
    "CNRM_CM6_1 = CNRM_CM6_1.set_index('time')"
   ]
  },
  {
   "cell_type": "markdown",
   "metadata": {},
   "source": [
    "## EC_EARTH3"
   ]
  },
  {
   "cell_type": "code",
   "execution_count": 6,
   "metadata": {},
   "outputs": [],
   "source": [
    "EC_EARTH3_nc = xr.open_dataset('../data/tas_day_EC-Earth3-CC_historical_r1i1p1f1_gr_20000101-20141231_v20210113.nc')\n",
    "EC_EARTH3 = pd.DataFrame()\n",
    "EC_EARTH3['time'] = EC_EARTH3_nc.time\n",
    "EC_EARTH3['EC_EARTH3'] = EC_EARTH3_nc.tas.mean(dim=[\"lat\",\"lon\"])\n",
    "EC_EARTH3['time'] = EC_EARTH3['time'].apply(lambda x: str(x.date()))\n",
    "EC_EARTH3 = EC_EARTH3.set_index('time')"
   ]
  },
  {
   "cell_type": "markdown",
   "metadata": {},
   "source": [
    "## MRI_ESM2"
   ]
  },
  {
   "cell_type": "code",
   "execution_count": 7,
   "metadata": {},
   "outputs": [],
   "source": [
    "MRI_ESM2_nc = xr.open_dataset('../data/tas_day_MRI-ESM2-0_historical_r1i1p1f1_gn_20000101-20141231_v20190603.nc')\n",
    "MRI_ESM2 = pd.DataFrame()\n",
    "MRI_ESM2['time'] = MRI_ESM2_nc.time\n",
    "MRI_ESM2['MRI_ESM2'] = MRI_ESM2_nc.tas.mean(dim=[\"lat\",\"lon\"])\n",
    "MRI_ESM2['time'] = MRI_ESM2['time'].apply(lambda x: str(x.date()))\n",
    "MRI_ESM2 = MRI_ESM2.set_index('time')"
   ]
  },
  {
   "cell_type": "code",
   "execution_count": 12,
   "metadata": {},
   "outputs": [
    {
     "name": "stdout",
     "output_type": "stream",
     "text": [
      "\n",
      "    CESM2_WACCM: 4.268655300140381 \n",
      "    CESM2: 4.372464656829834\n",
      "    CNRM_CM6_1: 4.583861827850342       \n",
      "    EC_EARTH3: 4.310638427734375\n",
      "    MRI_ESM2: 4.691719055175781\n",
      "\n",
      "\n",
      "    CESM2_WACCM: 0.011751193553209305 \n",
      "    CESM2: 19.11844825744629\n",
      "    CNRM_CM6_1: 0.012528566643595695       \n",
      "    EC_EARTH3: 0.01180186402052641\n",
      "    MRI_ESM2: 0.012861620634794235\n",
      "\n"
     ]
    }
   ],
   "source": [
    "# WARNING!: Some dataframes don't have the 29th of February\n",
    "final = reanalysis.merge(CESM2_WACCM, left_index=True, right_index=True) \\\n",
    "                   .merge(CESM2, left_index=True, right_index=True) \\\n",
    "                   .merge(CNRM_CM6_1, left_index=True, right_index=True) \\\n",
    "                   .merge(EC_EARTH3, left_index=True, right_index=True) \\\n",
    "                   .merge(MRI_ESM2, left_index=True, right_index=True)\n",
    "\n",
    "#RMSE\n",
    "print(f'''\n",
    "    CESM2_WACCM: {np.sqrt(mean_squared_error(final[\"temp\"], final[\"CESM2_WACCM\"]))} \n",
    "    CESM2: {np.sqrt(mean_squared_error(final[\"temp\"], final[\"CESM2\"]))}\n",
    "    CNRM_CM6_1: {np.sqrt(mean_squared_error(final['temp'], final['CNRM_CM6_1']))}       \n",
    "    EC_EARTH3: {np.sqrt(mean_squared_error(final['temp'], final['EC_EARTH3']))}\n",
    "    MRI_ESM2: {np.sqrt(mean_squared_error(final['temp'], final['MRI_ESM2']))}\n",
    "''')\n",
    "\n",
    "#MAPE\n",
    "print(f'''\n",
    "    CESM2_WACCM: {mean_absolute_percentage_error(final[\"temp\"], final[\"CESM2_WACCM\"])} \n",
    "    CESM2: {mean_squared_error(final[\"temp\"], final[\"CESM2\"])}\n",
    "    CNRM_CM6_1: {mean_absolute_percentage_error(final['temp'], final['CNRM_CM6_1'])}       \n",
    "    EC_EARTH3: {mean_absolute_percentage_error(final['temp'], final['EC_EARTH3'])}\n",
    "    MRI_ESM2: {mean_absolute_percentage_error(final['temp'], final['MRI_ESM2'])}\n",
    "''')"
   ]
  }
 ],
 "metadata": {
  "kernelspec": {
   "display_name": "Python 3",
   "language": "python",
   "name": "python3"
  },
  "language_info": {
   "codemirror_mode": {
    "name": "ipython",
    "version": 3
   },
   "file_extension": ".py",
   "mimetype": "text/x-python",
   "name": "python",
   "nbconvert_exporter": "python",
   "pygments_lexer": "ipython3",
   "version": "3.11.5"
  }
 },
 "nbformat": 4,
 "nbformat_minor": 2
}
