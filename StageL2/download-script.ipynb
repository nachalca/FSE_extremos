{
 "cells": [
  {
   "cell_type": "code",
   "execution_count": 6,
   "id": "a23244bb",
   "metadata": {},
   "outputs": [],
   "source": [
    "import pandas as pd\n",
    "import cdsapi\n",
    "import zipfile\n",
    "import re\n",
    "import os\n",
    "from os.path import exists"
   ]
  },
  {
   "cell_type": "code",
   "execution_count": 77,
   "id": "b5c88911",
   "metadata": {},
   "outputs": [],
   "source": [
    "def extract_criteria():\n",
    "    file = pd.read_csv(\"CMIP6-table-for-Amine.csv\", sep=\";\")\n",
    "    c = cdsapi.Client()\n",
    "    for i in range(len(file[\"Time resolution\"])):\n",
    "            newFile = file[\"Time resolution\"][i]+file[\"Experience\"][i]+file[\"Variable\"][i]+file[\"Model\"][i]+\".zip\"\n",
    "                    if not exists(newFile):\n",
    "                        # the year range differ for historical;\n",
    "                        if exp == \"historical\":\n",
    "                            try:\n",
    "                                c.retrieve(\"projections-cmip6\", \n",
    "                                   {\"temporal_resolution\": tres,\n",
    "                                   \"experiment\": exp,\n",
    "                                   \"variable\": var,\n",
    "                                   \"model\": mod,\n",
    "                                    \"year\": [str(year) for year in range(2000, 2015)],\n",
    "                                     \"month\": [str(month).zfill(2) for month in range(1, 13)],\n",
    "                                    \"day\": [str(day).zfill(2) for day in range(1, 32)],\n",
    "                                    \"area\": [-30, -59, -35, -53],\n",
    "                                    \"format\": \"zip\"\n",
    "                                   }, newFile)\n",
    "                                with zipfile.ZipFile(newFile, \"r\") as zip_f:\n",
    "                                    for file in zip_f.namelist():\n",
    "                                        m = re.search(re.compile(\".*\\.nc$\"), file)\n",
    "                                        if m:\n",
    "                                            zip_f.extract(file)\n",
    "                            except:\n",
    "                                print(newfile + \" cannot be found.\")\n",
    "                        else:\n",
    "                            c.retrieve(\"projections-cmip6\", \n",
    "                               {\"temporal_resolution\": tres,\n",
    "                               \"experiment\": exp,\n",
    "                               \"variable\": var,\n",
    "                               \"model\": mod,\n",
    "                                \"year\": [str(year) for year in range(2015, 2051)],\n",
    "                                \"month\": [str(month).zfill(2) for month in range(1, 13)],\n",
    "                                \"day\": [str(day).zfill(2) for day in range(1, 32)],\n",
    "                                \"area\": [-30, -59, -35, -53],\n",
    "                                \"format\": \"zip\"\n",
    "                               }, newFile)\n",
    "                            with zipfile.ZipFile(newFile, \"r\") as zip_f:\n",
    "                                for file in zip_f.namelist():\n",
    "                                    m = re.search(re.compile(\".*\\.nc$\"), file)\n",
    "                                    if m:\n",
    "                                        zip_f.extract(file)"
   ]
  },
  {
   "cell_type": "code",
   "execution_count": 78,
   "id": "23b1f2b2",
   "metadata": {},
   "outputs": [
    {
     "name": "stderr",
     "output_type": "stream",
     "text": [
      "2024-03-29 11:13:37,476 INFO Welcome to the CDS\n",
      "2024-03-29 11:13:37,477 INFO Sending request to https://cds.climate.copernicus.eu/api/v2/resources/projections-cmip6\n",
      "2024-03-29 11:13:37,596 INFO Request is completed\n",
      "2024-03-29 11:13:37,597 INFO Downloading https://download-0014-clone.copernicus-climate.eu/cache-compute-0014/cache/data9/adaptor.esgf_wps.retrieve-1711647091.2346177-9025-14-21e515f3-39ff-486d-ad7b-94ca517779f6.zip to example.zip (257.9K)\n",
      "2024-03-29 11:13:37,794 INFO Download rate 1.3M/s                               \n"
     ]
    }
   ],
   "source": [
    "c = cdsapi.Client()\n",
    "newFile = \"example.zip\"\n",
    "c.retrieve(\"projections-cmip6\", \n",
    "    {\"temporal_resolution\": \"monthly\",\n",
    "     \"experiment\": \"historical\",\n",
    "     \"variable\": \"surface_downwelling_shortwave_radiation\",\n",
    "     \"model\": \"cesm2\",\n",
    "     \"year\": [str(year) for year in range(2000, 2015)],\n",
    "     \"month\": [str(month).zfill(2) for month in range(1, 13)],\n",
    "     \"day\": [str(day).zfill(2) for day in range(1, 32)],\n",
    "     \"area\": [-30, -59, -35, -53],\n",
    "     \"format\": \"zip\"\n",
    "     }, newFile)\n",
    "with zipfile.ZipFile(newFile, \"r\") as zip_f:\n",
    "    for file in zip_f.namelist():\n",
    "        # another way to find the .nc file;\n",
    "        # if os.path.extension(\"nc\"):\n",
    "        m = re.search(re.compile(\".*\\.nc$\"), file)\n",
    "        if m:\n",
    "            zip_f.extract(file)"
   ]
  },
  {
   "cell_type": "code",
   "execution_count": null,
   "id": "0de8a090",
   "metadata": {},
   "outputs": [],
   "source": []
  }
 ],
 "metadata": {
  "kernelspec": {
   "display_name": "Python 3 (ipykernel)",
   "language": "python",
   "name": "python3"
  },
  "language_info": {
   "codemirror_mode": {
    "name": "ipython",
    "version": 3
   },
   "file_extension": ".py",
   "mimetype": "text/x-python",
   "name": "python",
   "nbconvert_exporter": "python",
   "pygments_lexer": "ipython3",
   "version": "3.11.4"
  }
 },
 "nbformat": 4,
 "nbformat_minor": 5
}
